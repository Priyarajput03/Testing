{
 "cells": [
  {
   "cell_type": "markdown",
   "id": "ce64ba5b",
   "metadata": {},
   "source": [
    "1.Program to find the factorial of a number"
   ]
  },
  {
   "cell_type": "code",
   "execution_count": 118,
   "id": "f5e26e0c",
   "metadata": {},
   "outputs": [
    {
     "name": "stdout",
     "output_type": "stream",
     "text": [
      "Enter the number=6\n",
      "Factorial of 6 is 720\n"
     ]
    }
   ],
   "source": [
    "num=int(input('Enter the number='))\n",
    "factnum=1\n",
    "if num==0:\n",
    "    print('Factorial of 0 is 1')\n",
    "else:\n",
    "    for i in range(1,num+1):\n",
    "        factnum=factnum*i\n",
    "print('Factorial of',num, 'is', factnum)\n",
    "    "
   ]
  },
  {
   "cell_type": "markdown",
   "id": "40ab93aa",
   "metadata": {},
   "source": [
    "3.Program to check whether a given string is palindrome or not."
   ]
  },
  {
   "cell_type": "code",
   "execution_count": 120,
   "id": "e5413328",
   "metadata": {},
   "outputs": [
    {
     "name": "stdout",
     "output_type": "stream",
     "text": [
      "Enter the word:datatrained\n",
      "It is not Palindrome\n"
     ]
    }
   ],
   "source": [
    "text=str(input('Enter the word:'))\n",
    "\n",
    "if text==text[::-1]:\n",
    "    print('It is a palindrome')\n",
    "else:\n",
    "    print('It is not Palindrome')"
   ]
  },
  {
   "cell_type": "markdown",
   "id": "4801033c",
   "metadata": {},
   "source": [
    "4.Program to get the third side of right angle triangle if two side given."
   ]
  },
  {
   "cell_type": "code",
   "execution_count": 121,
   "id": "3582f461",
   "metadata": {},
   "outputs": [
    {
     "name": "stdout",
     "output_type": "stream",
     "text": [
      "which side you want to find?b\n",
      "Enter the value of a:3\n",
      "Enter the value of c:5.1\n",
      "the value of side b is 4.12432\n"
     ]
    }
   ],
   "source": [
    "from math import sqrt\n",
    "side=input('which side you want to find?')\n",
    "\n",
    "if side=='a':\n",
    "    b= float(input('Enter the value of b:'))\n",
    "    c= float(input('Enter the value of c:'))\n",
    "    a=sqrt(c*c -b*b)\n",
    "    print('the value of side a is %g' %(a))\n",
    "elif side=='b':\n",
    "    a= float(input('Enter the value of a:'))\n",
    "    c= float(input('Enter the value of c:'))\n",
    "    b=sqrt(c*c -a*a)\n",
    "    print('the value of side b is %g' %(b))\n",
    "elif side=='c':\n",
    "    a= float(input('Enter the value of a:'))\n",
    "    b= float(input('Enter the value of b:'))\n",
    "    c=sqrt(a*a + b*b)\n",
    "    print('the value of side c is %g' %(c))\n",
    "          \n",
    "else:\n",
    "    print('try again')        "
   ]
  },
  {
   "cell_type": "markdown",
   "id": "5f8c9915",
   "metadata": {},
   "source": [
    "2.Program to check whether the number is prime or composite."
   ]
  },
  {
   "cell_type": "code",
   "execution_count": 123,
   "id": "d9cf8615",
   "metadata": {},
   "outputs": [
    {
     "name": "stdout",
     "output_type": "stream",
     "text": [
      "Enter the number-5\n",
      "it is a prime number\n"
     ]
    }
   ],
   "source": [
    "num1=int(input('Enter the number-'))\n",
    "\n",
    "if num1>1:\n",
    "    for i in range(2,num1):\n",
    "        if (num1 % i)==0:\n",
    "            print('It is not prime number')\n",
    "            break\n",
    "    else:\n",
    "        print('it is a prime number')\n",
    "elif num1 == 0 or 1:\n",
    "    print('It is neither prime number nor composite number')\n",
    "else:\n",
    "    print('it is a composite number')    \n",
    "    "
   ]
  },
  {
   "cell_type": "markdown",
   "id": "7f637627",
   "metadata": {},
   "source": [
    "5.Program to print the frequency of each of the characters present in a given string."
   ]
  },
  {
   "cell_type": "code",
   "execution_count": 124,
   "id": "c6e0c59c",
   "metadata": {},
   "outputs": [
    {
     "name": "stdout",
     "output_type": "stream",
     "text": [
      "Enter the string:flip robo technologies\n",
      "{'f': 1, 'l': 2, 'i': 2, 'p': 1, ' ': 2, 'r': 1, 'o': 4, 'b': 1, 't': 1, 'e': 2, 'c': 1, 'h': 1, 'n': 1, 'g': 1, 's': 1}\n"
     ]
    }
   ],
   "source": [
    "Str=input('Enter the string:')\n",
    "dict={}\n",
    "for i in Str:\n",
    "    if i in dict:\n",
    "        dict[i]=dict[i]+1\n",
    "    else:\n",
    "        dict[i]=1\n",
    "print(dict)"
   ]
  },
  {
   "cell_type": "code",
   "execution_count": null,
   "id": "8da9df43",
   "metadata": {},
   "outputs": [],
   "source": []
  }
 ],
 "metadata": {
  "kernelspec": {
   "display_name": "Python 3",
   "language": "python",
   "name": "python3"
  },
  "language_info": {
   "codemirror_mode": {
    "name": "ipython",
    "version": 3
   },
   "file_extension": ".py",
   "mimetype": "text/x-python",
   "name": "python",
   "nbconvert_exporter": "python",
   "pygments_lexer": "ipython3",
   "version": "3.8.8"
  }
 },
 "nbformat": 4,
 "nbformat_minor": 5
}
