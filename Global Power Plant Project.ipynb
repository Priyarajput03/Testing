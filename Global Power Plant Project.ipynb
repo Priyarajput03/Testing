{
 "cells": [
  {
   "cell_type": "markdown",
   "id": "24e3a065",
   "metadata": {},
   "source": [
    "### Importing the dataset"
   ]
  },
  {
   "cell_type": "code",
   "execution_count": 2,
   "id": "2313f18d",
   "metadata": {},
   "outputs": [],
   "source": [
    "import numpy as np\n",
    "import pandas as pd\n",
    "import matplotlib.pyplot as plt\n",
    "import seaborn as sns\n",
    "import os\n",
    "import scipy as stats\n",
    "import warnings\n",
    "warnings.filterwarnings('ignore')"
   ]
  },
  {
   "cell_type": "code",
   "execution_count": 3,
   "id": "fd12614f",
   "metadata": {},
   "outputs": [
    {
     "data": {
      "text/html": [
       "<div>\n",
       "<style scoped>\n",
       "    .dataframe tbody tr th:only-of-type {\n",
       "        vertical-align: middle;\n",
       "    }\n",
       "\n",
       "    .dataframe tbody tr th {\n",
       "        vertical-align: top;\n",
       "    }\n",
       "\n",
       "    .dataframe thead th {\n",
       "        text-align: right;\n",
       "    }\n",
       "</style>\n",
       "<table border=\"1\" class=\"dataframe\">\n",
       "  <thead>\n",
       "    <tr style=\"text-align: right;\">\n",
       "      <th></th>\n",
       "      <th>country</th>\n",
       "      <th>country_long</th>\n",
       "      <th>name</th>\n",
       "      <th>gppd_idnr</th>\n",
       "      <th>capacity_mw</th>\n",
       "      <th>latitude</th>\n",
       "      <th>longitude</th>\n",
       "      <th>primary_fuel</th>\n",
       "      <th>other_fuel1</th>\n",
       "      <th>other_fuel2</th>\n",
       "      <th>...</th>\n",
       "      <th>year_of_capacity_data</th>\n",
       "      <th>generation_gwh_2013</th>\n",
       "      <th>generation_gwh_2014</th>\n",
       "      <th>generation_gwh_2015</th>\n",
       "      <th>generation_gwh_2016</th>\n",
       "      <th>generation_gwh_2017</th>\n",
       "      <th>generation_gwh_2018</th>\n",
       "      <th>generation_gwh_2019</th>\n",
       "      <th>generation_data_source</th>\n",
       "      <th>estimated_generation_gwh</th>\n",
       "    </tr>\n",
       "  </thead>\n",
       "  <tbody>\n",
       "    <tr>\n",
       "      <th>0</th>\n",
       "      <td>IND</td>\n",
       "      <td>India</td>\n",
       "      <td>ACME Solar Tower</td>\n",
       "      <td>WRI1020239</td>\n",
       "      <td>2.5</td>\n",
       "      <td>28.1839</td>\n",
       "      <td>73.2407</td>\n",
       "      <td>Solar</td>\n",
       "      <td>NaN</td>\n",
       "      <td>NaN</td>\n",
       "      <td>...</td>\n",
       "      <td>NaN</td>\n",
       "      <td>NaN</td>\n",
       "      <td>NaN</td>\n",
       "      <td>NaN</td>\n",
       "      <td>NaN</td>\n",
       "      <td>NaN</td>\n",
       "      <td>NaN</td>\n",
       "      <td>NaN</td>\n",
       "      <td>NaN</td>\n",
       "      <td>NaN</td>\n",
       "    </tr>\n",
       "    <tr>\n",
       "      <th>1</th>\n",
       "      <td>IND</td>\n",
       "      <td>India</td>\n",
       "      <td>ADITYA CEMENT WORKS</td>\n",
       "      <td>WRI1019881</td>\n",
       "      <td>98.0</td>\n",
       "      <td>24.7663</td>\n",
       "      <td>74.6090</td>\n",
       "      <td>Coal</td>\n",
       "      <td>NaN</td>\n",
       "      <td>NaN</td>\n",
       "      <td>...</td>\n",
       "      <td>NaN</td>\n",
       "      <td>NaN</td>\n",
       "      <td>NaN</td>\n",
       "      <td>NaN</td>\n",
       "      <td>NaN</td>\n",
       "      <td>NaN</td>\n",
       "      <td>NaN</td>\n",
       "      <td>NaN</td>\n",
       "      <td>NaN</td>\n",
       "      <td>NaN</td>\n",
       "    </tr>\n",
       "    <tr>\n",
       "      <th>2</th>\n",
       "      <td>IND</td>\n",
       "      <td>India</td>\n",
       "      <td>AES Saurashtra Windfarms</td>\n",
       "      <td>WRI1026669</td>\n",
       "      <td>39.2</td>\n",
       "      <td>21.9038</td>\n",
       "      <td>69.3732</td>\n",
       "      <td>Wind</td>\n",
       "      <td>NaN</td>\n",
       "      <td>NaN</td>\n",
       "      <td>...</td>\n",
       "      <td>NaN</td>\n",
       "      <td>NaN</td>\n",
       "      <td>NaN</td>\n",
       "      <td>NaN</td>\n",
       "      <td>NaN</td>\n",
       "      <td>NaN</td>\n",
       "      <td>NaN</td>\n",
       "      <td>NaN</td>\n",
       "      <td>NaN</td>\n",
       "      <td>NaN</td>\n",
       "    </tr>\n",
       "    <tr>\n",
       "      <th>3</th>\n",
       "      <td>IND</td>\n",
       "      <td>India</td>\n",
       "      <td>AGARTALA GT</td>\n",
       "      <td>IND0000001</td>\n",
       "      <td>135.0</td>\n",
       "      <td>23.8712</td>\n",
       "      <td>91.3602</td>\n",
       "      <td>Gas</td>\n",
       "      <td>NaN</td>\n",
       "      <td>NaN</td>\n",
       "      <td>...</td>\n",
       "      <td>2019.0</td>\n",
       "      <td>NaN</td>\n",
       "      <td>617.789264</td>\n",
       "      <td>843.747</td>\n",
       "      <td>886.004428</td>\n",
       "      <td>663.774500</td>\n",
       "      <td>626.239128</td>\n",
       "      <td>NaN</td>\n",
       "      <td>Central Electricity Authority</td>\n",
       "      <td>NaN</td>\n",
       "    </tr>\n",
       "    <tr>\n",
       "      <th>4</th>\n",
       "      <td>IND</td>\n",
       "      <td>India</td>\n",
       "      <td>AKALTARA TPP</td>\n",
       "      <td>IND0000002</td>\n",
       "      <td>1800.0</td>\n",
       "      <td>21.9603</td>\n",
       "      <td>82.4091</td>\n",
       "      <td>Coal</td>\n",
       "      <td>Oil</td>\n",
       "      <td>NaN</td>\n",
       "      <td>...</td>\n",
       "      <td>2019.0</td>\n",
       "      <td>NaN</td>\n",
       "      <td>3035.550000</td>\n",
       "      <td>5916.370</td>\n",
       "      <td>6243.000000</td>\n",
       "      <td>5385.579736</td>\n",
       "      <td>7279.000000</td>\n",
       "      <td>NaN</td>\n",
       "      <td>Central Electricity Authority</td>\n",
       "      <td>NaN</td>\n",
       "    </tr>\n",
       "  </tbody>\n",
       "</table>\n",
       "<p>5 rows × 27 columns</p>\n",
       "</div>"
      ],
      "text/plain": [
       "  country country_long                      name   gppd_idnr  capacity_mw  \\\n",
       "0     IND        India          ACME Solar Tower  WRI1020239          2.5   \n",
       "1     IND        India       ADITYA CEMENT WORKS  WRI1019881         98.0   \n",
       "2     IND        India  AES Saurashtra Windfarms  WRI1026669         39.2   \n",
       "3     IND        India               AGARTALA GT  IND0000001        135.0   \n",
       "4     IND        India              AKALTARA TPP  IND0000002       1800.0   \n",
       "\n",
       "   latitude  longitude primary_fuel other_fuel1 other_fuel2  ...  \\\n",
       "0   28.1839    73.2407        Solar         NaN         NaN  ...   \n",
       "1   24.7663    74.6090         Coal         NaN         NaN  ...   \n",
       "2   21.9038    69.3732         Wind         NaN         NaN  ...   \n",
       "3   23.8712    91.3602          Gas         NaN         NaN  ...   \n",
       "4   21.9603    82.4091         Coal         Oil         NaN  ...   \n",
       "\n",
       "   year_of_capacity_data  generation_gwh_2013 generation_gwh_2014  \\\n",
       "0                    NaN                  NaN                 NaN   \n",
       "1                    NaN                  NaN                 NaN   \n",
       "2                    NaN                  NaN                 NaN   \n",
       "3                 2019.0                  NaN          617.789264   \n",
       "4                 2019.0                  NaN         3035.550000   \n",
       "\n",
       "  generation_gwh_2015 generation_gwh_2016 generation_gwh_2017  \\\n",
       "0                 NaN                 NaN                 NaN   \n",
       "1                 NaN                 NaN                 NaN   \n",
       "2                 NaN                 NaN                 NaN   \n",
       "3             843.747          886.004428          663.774500   \n",
       "4            5916.370         6243.000000         5385.579736   \n",
       "\n",
       "   generation_gwh_2018  generation_gwh_2019         generation_data_source  \\\n",
       "0                  NaN                  NaN                            NaN   \n",
       "1                  NaN                  NaN                            NaN   \n",
       "2                  NaN                  NaN                            NaN   \n",
       "3           626.239128                  NaN  Central Electricity Authority   \n",
       "4          7279.000000                  NaN  Central Electricity Authority   \n",
       "\n",
       "   estimated_generation_gwh  \n",
       "0                       NaN  \n",
       "1                       NaN  \n",
       "2                       NaN  \n",
       "3                       NaN  \n",
       "4                       NaN  \n",
       "\n",
       "[5 rows x 27 columns]"
      ]
     },
     "execution_count": 3,
     "metadata": {},
     "output_type": "execute_result"
    }
   ],
   "source": [
    "df=pd.read_csv(r'https://raw.githubusercontent.com/wri/global-power-plant-database/master/source_databases_csv/database_IND.csv')\n",
    "df.head()"
   ]
  },
  {
   "cell_type": "code",
   "execution_count": 4,
   "id": "bce58d8a",
   "metadata": {},
   "outputs": [
    {
     "data": {
      "text/plain": [
       "Index(['country', 'country_long', 'name', 'gppd_idnr', 'capacity_mw',\n",
       "       'latitude', 'longitude', 'primary_fuel', 'other_fuel1', 'other_fuel2',\n",
       "       'other_fuel3', 'commissioning_year', 'owner', 'source', 'url',\n",
       "       'geolocation_source', 'wepp_id', 'year_of_capacity_data',\n",
       "       'generation_gwh_2013', 'generation_gwh_2014', 'generation_gwh_2015',\n",
       "       'generation_gwh_2016', 'generation_gwh_2017', 'generation_gwh_2018',\n",
       "       'generation_gwh_2019', 'generation_data_source',\n",
       "       'estimated_generation_gwh'],\n",
       "      dtype='object')"
      ]
     },
     "execution_count": 4,
     "metadata": {},
     "output_type": "execute_result"
    }
   ],
   "source": [
    "df.columns # number of columns with name"
   ]
  },
  {
   "cell_type": "markdown",
   "id": "637a299c",
   "metadata": {},
   "source": [
    "### Checking the null values in the dataframe"
   ]
  },
  {
   "cell_type": "code",
   "execution_count": 5,
   "id": "9b7af8a5",
   "metadata": {
    "scrolled": false
   },
   "outputs": [
    {
     "data": {
      "text/plain": [
       "country                       0\n",
       "country_long                  0\n",
       "name                          0\n",
       "gppd_idnr                     0\n",
       "capacity_mw                   0\n",
       "latitude                     46\n",
       "longitude                    46\n",
       "primary_fuel                  0\n",
       "other_fuel1                 709\n",
       "other_fuel2                 906\n",
       "other_fuel3                 907\n",
       "commissioning_year          380\n",
       "owner                       565\n",
       "source                        0\n",
       "url                           0\n",
       "geolocation_source           19\n",
       "wepp_id                     907\n",
       "year_of_capacity_data       388\n",
       "generation_gwh_2013         907\n",
       "generation_gwh_2014         509\n",
       "generation_gwh_2015         485\n",
       "generation_gwh_2016         473\n",
       "generation_gwh_2017         467\n",
       "generation_gwh_2018         459\n",
       "generation_gwh_2019         907\n",
       "generation_data_source      458\n",
       "estimated_generation_gwh    907\n",
       "dtype: int64"
      ]
     },
     "execution_count": 5,
     "metadata": {},
     "output_type": "execute_result"
    }
   ],
   "source": [
    "df.isna().sum()"
   ]
  },
  {
   "cell_type": "code",
   "execution_count": 6,
   "id": "e037f333",
   "metadata": {},
   "outputs": [],
   "source": [
    "df.drop(['other_fuel1','other_fuel2','other_fuel3','owner','wepp_id','generation_gwh_2013','generation_gwh_2014','generation_gwh_2015','generation_gwh_2016','generation_gwh_2017','generation_gwh_2018','generation_gwh_2019','generation_data_source','estimated_generation_gwh'],axis=1, inplace=True)"
   ]
  },
  {
   "cell_type": "markdown",
   "id": "a7af91ee",
   "metadata": {},
   "source": [
    "seeing the null values we find that some features have more than 50% missing data and we need to remove them"
   ]
  },
  {
   "cell_type": "code",
   "execution_count": 7,
   "id": "11188984",
   "metadata": {},
   "outputs": [
    {
     "data": {
      "text/plain": [
       "(907, 13)"
      ]
     },
     "execution_count": 7,
     "metadata": {},
     "output_type": "execute_result"
    }
   ],
   "source": [
    "df.shape"
   ]
  },
  {
   "cell_type": "code",
   "execution_count": 8,
   "id": "ec768fa3",
   "metadata": {},
   "outputs": [
    {
     "data": {
      "text/html": [
       "<div>\n",
       "<style scoped>\n",
       "    .dataframe tbody tr th:only-of-type {\n",
       "        vertical-align: middle;\n",
       "    }\n",
       "\n",
       "    .dataframe tbody tr th {\n",
       "        vertical-align: top;\n",
       "    }\n",
       "\n",
       "    .dataframe thead th {\n",
       "        text-align: right;\n",
       "    }\n",
       "</style>\n",
       "<table border=\"1\" class=\"dataframe\">\n",
       "  <thead>\n",
       "    <tr style=\"text-align: right;\">\n",
       "      <th></th>\n",
       "      <th>capacity_mw</th>\n",
       "      <th>latitude</th>\n",
       "      <th>longitude</th>\n",
       "      <th>commissioning_year</th>\n",
       "      <th>year_of_capacity_data</th>\n",
       "    </tr>\n",
       "  </thead>\n",
       "  <tbody>\n",
       "    <tr>\n",
       "      <th>count</th>\n",
       "      <td>907.000000</td>\n",
       "      <td>861.000000</td>\n",
       "      <td>861.000000</td>\n",
       "      <td>527.000000</td>\n",
       "      <td>519.0</td>\n",
       "    </tr>\n",
       "    <tr>\n",
       "      <th>mean</th>\n",
       "      <td>326.223755</td>\n",
       "      <td>21.197918</td>\n",
       "      <td>77.464907</td>\n",
       "      <td>1997.091082</td>\n",
       "      <td>2019.0</td>\n",
       "    </tr>\n",
       "    <tr>\n",
       "      <th>std</th>\n",
       "      <td>590.085456</td>\n",
       "      <td>6.239612</td>\n",
       "      <td>4.939316</td>\n",
       "      <td>17.082868</td>\n",
       "      <td>0.0</td>\n",
       "    </tr>\n",
       "    <tr>\n",
       "      <th>min</th>\n",
       "      <td>0.000000</td>\n",
       "      <td>8.168900</td>\n",
       "      <td>68.644700</td>\n",
       "      <td>1927.000000</td>\n",
       "      <td>2019.0</td>\n",
       "    </tr>\n",
       "    <tr>\n",
       "      <th>25%</th>\n",
       "      <td>16.725000</td>\n",
       "      <td>16.773900</td>\n",
       "      <td>74.256200</td>\n",
       "      <td>1988.000000</td>\n",
       "      <td>2019.0</td>\n",
       "    </tr>\n",
       "    <tr>\n",
       "      <th>50%</th>\n",
       "      <td>59.200000</td>\n",
       "      <td>21.780000</td>\n",
       "      <td>76.719500</td>\n",
       "      <td>2001.000000</td>\n",
       "      <td>2019.0</td>\n",
       "    </tr>\n",
       "    <tr>\n",
       "      <th>75%</th>\n",
       "      <td>385.250000</td>\n",
       "      <td>25.512400</td>\n",
       "      <td>79.440800</td>\n",
       "      <td>2012.000000</td>\n",
       "      <td>2019.0</td>\n",
       "    </tr>\n",
       "    <tr>\n",
       "      <th>max</th>\n",
       "      <td>4760.000000</td>\n",
       "      <td>34.649000</td>\n",
       "      <td>95.408000</td>\n",
       "      <td>2018.000000</td>\n",
       "      <td>2019.0</td>\n",
       "    </tr>\n",
       "  </tbody>\n",
       "</table>\n",
       "</div>"
      ],
      "text/plain": [
       "       capacity_mw    latitude   longitude  commissioning_year  \\\n",
       "count   907.000000  861.000000  861.000000          527.000000   \n",
       "mean    326.223755   21.197918   77.464907         1997.091082   \n",
       "std     590.085456    6.239612    4.939316           17.082868   \n",
       "min       0.000000    8.168900   68.644700         1927.000000   \n",
       "25%      16.725000   16.773900   74.256200         1988.000000   \n",
       "50%      59.200000   21.780000   76.719500         2001.000000   \n",
       "75%     385.250000   25.512400   79.440800         2012.000000   \n",
       "max    4760.000000   34.649000   95.408000         2018.000000   \n",
       "\n",
       "       year_of_capacity_data  \n",
       "count                  519.0  \n",
       "mean                  2019.0  \n",
       "std                      0.0  \n",
       "min                   2019.0  \n",
       "25%                   2019.0  \n",
       "50%                   2019.0  \n",
       "75%                   2019.0  \n",
       "max                   2019.0  "
      ]
     },
     "execution_count": 8,
     "metadata": {},
     "output_type": "execute_result"
    }
   ],
   "source": [
    "#Statistical description\n",
    "df.describe()"
   ]
  },
  {
   "cell_type": "code",
   "execution_count": 9,
   "id": "921117d2",
   "metadata": {},
   "outputs": [
    {
     "data": {
      "text/plain": [
       "country                    1\n",
       "country_long               1\n",
       "name                     907\n",
       "gppd_idnr                907\n",
       "capacity_mw              361\n",
       "latitude                 836\n",
       "longitude                827\n",
       "primary_fuel               8\n",
       "commissioning_year        73\n",
       "source                   191\n",
       "url                      304\n",
       "geolocation_source         3\n",
       "year_of_capacity_data      1\n",
       "dtype: int64"
      ]
     },
     "execution_count": 9,
     "metadata": {},
     "output_type": "execute_result"
    }
   ],
   "source": [
    "df.nunique() # Counting the uniqueness from the dataset"
   ]
  },
  {
   "cell_type": "code",
   "execution_count": 10,
   "id": "7fbd7f7f",
   "metadata": {},
   "outputs": [
    {
     "data": {
      "text/plain": [
       "country                   object\n",
       "country_long              object\n",
       "name                      object\n",
       "gppd_idnr                 object\n",
       "capacity_mw              float64\n",
       "latitude                 float64\n",
       "longitude                float64\n",
       "primary_fuel              object\n",
       "commissioning_year       float64\n",
       "source                    object\n",
       "url                       object\n",
       "geolocation_source        object\n",
       "year_of_capacity_data    float64\n",
       "dtype: object"
      ]
     },
     "execution_count": 10,
     "metadata": {},
     "output_type": "execute_result"
    }
   ],
   "source": [
    "df.dtypes"
   ]
  },
  {
   "cell_type": "code",
   "execution_count": 11,
   "id": "a8f4d8e0",
   "metadata": {},
   "outputs": [
    {
     "data": {
      "text/plain": [
       "['country',\n",
       " 'country_long',\n",
       " 'name',\n",
       " 'gppd_idnr',\n",
       " 'primary_fuel',\n",
       " 'source',\n",
       " 'url',\n",
       " 'geolocation_source']"
      ]
     },
     "execution_count": 11,
     "metadata": {},
     "output_type": "execute_result"
    }
   ],
   "source": [
    "#checking the categorical attributes\n",
    "cat_col=[]\n",
    "for i in df.dtypes.index:\n",
    "    if df.dtypes[i]=='object':\n",
    "        cat_col.append(i)\n",
    "cat_col"
   ]
  },
  {
   "cell_type": "code",
   "execution_count": 12,
   "id": "8f78cc7a",
   "metadata": {},
   "outputs": [
    {
     "name": "stdout",
     "output_type": "stream",
     "text": [
      "country\n",
      "IND    907\n",
      "Name: country, dtype: int64\n",
      "\n",
      "country_long\n",
      "India    907\n",
      "Name: country_long, dtype: int64\n",
      "\n",
      "name\n",
      "KASRAWAD FACTORY           1\n",
      "YERMARUS TPP               1\n",
      "RAMGARH GT                 1\n",
      "THIROT                     1\n",
      "JSW RATNAGIRI TPP          1\n",
      "                          ..\n",
      "IDUKKI                     1\n",
      "Dhursar                    1\n",
      "NAGPUR SPONGE IRON         1\n",
      "Boha Solar Power Plant     1\n",
      "Dadri Solar Power Plant    1\n",
      "Name: name, Length: 907, dtype: int64\n",
      "\n",
      "gppd_idnr\n",
      "WRI1019920    1\n",
      "IND0000355    1\n",
      "IND0000344    1\n",
      "WRI1019922    1\n",
      "IND0000310    1\n",
      "             ..\n",
      "WRI1019967    1\n",
      "IND0000288    1\n",
      "IND0000455    1\n",
      "WRI1026093    1\n",
      "IND0000239    1\n",
      "Name: gppd_idnr, Length: 907, dtype: int64\n",
      "\n",
      "primary_fuel\n",
      "Coal       258\n",
      "Hydro      251\n",
      "Solar      127\n",
      "Wind       123\n",
      "Gas         69\n",
      "Biomass     50\n",
      "Oil         20\n",
      "Nuclear      9\n",
      "Name: primary_fuel, dtype: int64\n",
      "\n",
      "source\n",
      "Central Electricity Authority                             519\n",
      "CDM                                                       124\n",
      "Lancosola                                                  10\n",
      "National Renewable Energy Laboratory                        8\n",
      "National Thermal Power Corporation (NTPC)                   6\n",
      "                                                         ... \n",
      "Sahakar Shiromani vasantrao                                 1\n",
      "Jawahar Ssk ltd                                             1\n",
      "Sri Sugars ltd                                              1\n",
      "Amrit Energy Private Limited                                1\n",
      "Gujarat Mineral Development Corporation Limited (GMDC)      1\n",
      "Name: source, Length: 191, dtype: int64\n",
      "\n",
      "url\n",
      "http://www.cea.nic.in/                                                                                                                         519\n",
      "http://www.lancosolar.com/pdfs/rajasthan-pv-project-details.pdf                                                                                  7\n",
      "http://www.ntpc.co.in                                                                                                                            6\n",
      "http://viainfotech.biz/Biomass/theme5/document/green_market/REC-project-list.pdf                                                                 5\n",
      "https://cdm.unfccc.int/Projects/DB/SGS-UKL1333450990.34/view                                                                                     4\n",
      "                                                                                                                                              ... \n",
      "https://cdm.unfccc.int/Projects/DB/LRQA%20Ltd1355495522.4/view                                                                                   1\n",
      "https://www.iaea.org/PRIS/CountryStatistics/ReactorDetails.aspx?current=853                                                                      1\n",
      "http://rkmpowergen.in/                                                                                                                           1\n",
      "https://cdm.unfccc.int/filestorage/x/_/BYO3D0NJE4W2ZULSAXTQC61IM5HV9R.pdf/7873-PDD-25%20Oct%2012.pdf?t=ZGh8b2pkZ3A5fDB5_GTLkYcWdSL2xW6rf1F3      1\n",
      "https://cdm.unfccc.int/Projects/DB/RWTUV1297334588.3/view                                                                                        1\n",
      "Name: url, Length: 304, dtype: int64\n",
      "\n",
      "geolocation_source\n",
      "WRI                                     765\n",
      "Industry About                          119\n",
      "National Renewable Energy Laboratory      4\n",
      "Name: geolocation_source, dtype: int64\n",
      "\n"
     ]
    }
   ],
   "source": [
    "# counting the values of each categorical attribute to get better understanding of the data\n",
    "for col in cat_col:\n",
    "    print(col)\n",
    "    print(df[col].value_counts())\n",
    "    print()"
   ]
  },
  {
   "cell_type": "code",
   "execution_count": 13,
   "id": "037fe01a",
   "metadata": {},
   "outputs": [],
   "source": [
    "df.drop(['country','country_long','name','url','gppd_idnr','year_of_capacity_data'],axis=1,inplace=True)"
   ]
  },
  {
   "cell_type": "markdown",
   "id": "699f75af",
   "metadata": {},
   "source": [
    "with the help of value count and nunique we get count information of all dataset columns.\n",
    "\n",
    "1.country, country long and year_of_capacity_data column have only 1 unique value i.e IND and India and provide no relevent data so we remove it.\n",
    "\n",
    "2.Name and gppd_idnr have all unique data in all rows and we can also remove them.`\n",
    "\n",
    "3.url column have site data which willnot help in making our model so we drop this too.\n"
   ]
  },
  {
   "cell_type": "code",
   "execution_count": 14,
   "id": "a6d8c5b1",
   "metadata": {},
   "outputs": [
    {
     "data": {
      "text/plain": [
       "(907, 7)"
      ]
     },
     "execution_count": 14,
     "metadata": {},
     "output_type": "execute_result"
    }
   ],
   "source": [
    "df.shape"
   ]
  },
  {
   "cell_type": "code",
   "execution_count": 15,
   "id": "7ba1ec08",
   "metadata": {},
   "outputs": [
    {
     "data": {
      "text/plain": [
       "capacity_mw             0\n",
       "latitude               46\n",
       "longitude              46\n",
       "primary_fuel            0\n",
       "commissioning_year    380\n",
       "source                  0\n",
       "geolocation_source     19\n",
       "dtype: int64"
      ]
     },
     "execution_count": 15,
     "metadata": {},
     "output_type": "execute_result"
    }
   ],
   "source": [
    "df.isna().sum()"
   ]
  },
  {
   "cell_type": "code",
   "execution_count": 16,
   "id": "4e90cb76",
   "metadata": {},
   "outputs": [],
   "source": [
    "#filling the float missing data with mean\n",
    "df['latitude'].fillna(df['latitude'].mean(),inplace=True)\n",
    "df['longitude'].fillna(df['longitude'].mean(),inplace=True)"
   ]
  },
  {
   "cell_type": "code",
   "execution_count": 17,
   "id": "218cbadd",
   "metadata": {},
   "outputs": [],
   "source": [
    "#filling the categorical column with the mode\n",
    "df['geolocation_source'].fillna(df['geolocation_source'].mode()[0],inplace=True)\n",
    "df['commissioning_year'].fillna(df['commissioning_year'].mode()[0],inplace=True)\n"
   ]
  },
  {
   "cell_type": "code",
   "execution_count": 18,
   "id": "8283f021",
   "metadata": {},
   "outputs": [
    {
     "data": {
      "text/plain": [
       "capacity_mw           0\n",
       "latitude              0\n",
       "longitude             0\n",
       "primary_fuel          0\n",
       "commissioning_year    0\n",
       "source                0\n",
       "geolocation_source    0\n",
       "dtype: int64"
      ]
     },
     "execution_count": 18,
     "metadata": {},
     "output_type": "execute_result"
    }
   ],
   "source": [
    "df.isna().sum()"
   ]
  },
  {
   "cell_type": "code",
   "execution_count": 19,
   "id": "083e4987",
   "metadata": {},
   "outputs": [
    {
     "data": {
      "text/plain": [
       "5.0       39\n",
       "10.0      22\n",
       "15.0      20\n",
       "600.0     20\n",
       "1200.0    19\n",
       "          ..\n",
       "192.0      1\n",
       "27.3       1\n",
       "26.4       1\n",
       "68.8       1\n",
       "19.7       1\n",
       "Name: capacity_mw, Length: 361, dtype: int64"
      ]
     },
     "execution_count": 19,
     "metadata": {},
     "output_type": "execute_result"
    }
   ],
   "source": [
    "# Checking he value counts of capacity_mw\n",
    "df['capacity_mw'].value_counts()"
   ]
  },
  {
   "cell_type": "code",
   "execution_count": 20,
   "id": "d16e5951",
   "metadata": {},
   "outputs": [
    {
     "data": {
      "text/plain": [
       "Coal       258\n",
       "Hydro      251\n",
       "Solar      127\n",
       "Wind       123\n",
       "Gas         69\n",
       "Biomass     50\n",
       "Oil         20\n",
       "Nuclear      9\n",
       "Name: primary_fuel, dtype: int64"
      ]
     },
     "execution_count": 20,
     "metadata": {},
     "output_type": "execute_result"
    }
   ],
   "source": [
    "#checking the count fot Fuel_type\n",
    "df['primary_fuel'].value_counts()"
   ]
  },
  {
   "cell_type": "code",
   "execution_count": 21,
   "id": "8983de8e",
   "metadata": {},
   "outputs": [
    {
     "data": {
      "text/plain": [
       "2015.0    408\n",
       "2013.0     25\n",
       "2012.0     23\n",
       "2016.0     19\n",
       "2010.0     18\n",
       "         ... \n",
       "1958.0      1\n",
       "1949.0      1\n",
       "1954.0      1\n",
       "1956.0      1\n",
       "1927.0      1\n",
       "Name: commissioning_year, Length: 73, dtype: int64"
      ]
     },
     "execution_count": 21,
     "metadata": {},
     "output_type": "execute_result"
    }
   ],
   "source": [
    "# Checking the counts of commissioning_year\n",
    "df['commissioning_year'].value_counts()"
   ]
  },
  {
   "cell_type": "code",
   "execution_count": 22,
   "id": "939f07ac",
   "metadata": {},
   "outputs": [],
   "source": [
    "#finding the plant age subtracting from the year 2019\n",
    "df['PP_age']=2019-df['commissioning_year']\n",
    "df.drop(columns=['commissioning_year'],inplace=True)"
   ]
  },
  {
   "cell_type": "code",
   "execution_count": 23,
   "id": "a4f48f25",
   "metadata": {},
   "outputs": [
    {
     "data": {
      "text/html": [
       "<div>\n",
       "<style scoped>\n",
       "    .dataframe tbody tr th:only-of-type {\n",
       "        vertical-align: middle;\n",
       "    }\n",
       "\n",
       "    .dataframe tbody tr th {\n",
       "        vertical-align: top;\n",
       "    }\n",
       "\n",
       "    .dataframe thead th {\n",
       "        text-align: right;\n",
       "    }\n",
       "</style>\n",
       "<table border=\"1\" class=\"dataframe\">\n",
       "  <thead>\n",
       "    <tr style=\"text-align: right;\">\n",
       "      <th></th>\n",
       "      <th>capacity_mw</th>\n",
       "      <th>latitude</th>\n",
       "      <th>longitude</th>\n",
       "      <th>primary_fuel</th>\n",
       "      <th>source</th>\n",
       "      <th>geolocation_source</th>\n",
       "      <th>PP_age</th>\n",
       "    </tr>\n",
       "  </thead>\n",
       "  <tbody>\n",
       "    <tr>\n",
       "      <th>0</th>\n",
       "      <td>2.5</td>\n",
       "      <td>28.1839</td>\n",
       "      <td>73.2407</td>\n",
       "      <td>Solar</td>\n",
       "      <td>National Renewable Energy Laboratory</td>\n",
       "      <td>National Renewable Energy Laboratory</td>\n",
       "      <td>8.0</td>\n",
       "    </tr>\n",
       "    <tr>\n",
       "      <th>1</th>\n",
       "      <td>98.0</td>\n",
       "      <td>24.7663</td>\n",
       "      <td>74.6090</td>\n",
       "      <td>Coal</td>\n",
       "      <td>Ultratech Cement ltd</td>\n",
       "      <td>WRI</td>\n",
       "      <td>4.0</td>\n",
       "    </tr>\n",
       "    <tr>\n",
       "      <th>2</th>\n",
       "      <td>39.2</td>\n",
       "      <td>21.9038</td>\n",
       "      <td>69.3732</td>\n",
       "      <td>Wind</td>\n",
       "      <td>CDM</td>\n",
       "      <td>WRI</td>\n",
       "      <td>4.0</td>\n",
       "    </tr>\n",
       "    <tr>\n",
       "      <th>3</th>\n",
       "      <td>135.0</td>\n",
       "      <td>23.8712</td>\n",
       "      <td>91.3602</td>\n",
       "      <td>Gas</td>\n",
       "      <td>Central Electricity Authority</td>\n",
       "      <td>WRI</td>\n",
       "      <td>15.0</td>\n",
       "    </tr>\n",
       "    <tr>\n",
       "      <th>4</th>\n",
       "      <td>1800.0</td>\n",
       "      <td>21.9603</td>\n",
       "      <td>82.4091</td>\n",
       "      <td>Coal</td>\n",
       "      <td>Central Electricity Authority</td>\n",
       "      <td>WRI</td>\n",
       "      <td>4.0</td>\n",
       "    </tr>\n",
       "  </tbody>\n",
       "</table>\n",
       "</div>"
      ],
      "text/plain": [
       "   capacity_mw  latitude  longitude primary_fuel  \\\n",
       "0          2.5   28.1839    73.2407        Solar   \n",
       "1         98.0   24.7663    74.6090         Coal   \n",
       "2         39.2   21.9038    69.3732         Wind   \n",
       "3        135.0   23.8712    91.3602          Gas   \n",
       "4       1800.0   21.9603    82.4091         Coal   \n",
       "\n",
       "                                 source                    geolocation_source  \\\n",
       "0  National Renewable Energy Laboratory  National Renewable Energy Laboratory   \n",
       "1                  Ultratech Cement ltd                                   WRI   \n",
       "2                                   CDM                                   WRI   \n",
       "3         Central Electricity Authority                                   WRI   \n",
       "4         Central Electricity Authority                                   WRI   \n",
       "\n",
       "   PP_age  \n",
       "0     8.0  \n",
       "1     4.0  \n",
       "2     4.0  \n",
       "3    15.0  \n",
       "4     4.0  "
      ]
     },
     "execution_count": 23,
     "metadata": {},
     "output_type": "execute_result"
    }
   ],
   "source": [
    "df.head()"
   ]
  },
  {
   "cell_type": "code",
   "execution_count": 24,
   "id": "22fefa8e",
   "metadata": {},
   "outputs": [
    {
     "data": {
      "text/plain": [
       "['capacity_mw', 'latitude', 'longitude', 'PP_age']"
      ]
     },
     "execution_count": 24,
     "metadata": {},
     "output_type": "execute_result"
    }
   ],
   "source": [
    "#checking for numerical columns\n",
    "num_col=[]\n",
    "for i in df.dtypes.index:\n",
    "    if df.dtypes[i]!='object':\n",
    "        num_col.append(i)\n",
    "num_col\n",
    "    "
   ]
  },
  {
   "cell_type": "markdown",
   "id": "125132da",
   "metadata": {},
   "source": [
    "## Visualization"
   ]
  },
  {
   "cell_type": "code",
   "execution_count": 25,
   "id": "4381cf38",
   "metadata": {},
   "outputs": [
    {
     "name": "stdout",
     "output_type": "stream",
     "text": [
      "Coal       258\n",
      "Hydro      251\n",
      "Solar      127\n",
      "Wind       123\n",
      "Gas         69\n",
      "Biomass     50\n",
      "Oil         20\n",
      "Nuclear      9\n",
      "Name: primary_fuel, dtype: int64\n"
     ]
    },
    {
     "data": {
      "image/png": "[encoded data removed]",
      "text/plain": [
       "<Figure size 720x576 with 1 Axes>"
      ]
     },
     "metadata": {
      "needs_background": "light"
     },
     "output_type": "display_data"
    }
   ],
   "source": [
    "#plot for categorical column\n",
    "print(df['primary_fuel'].value_counts())\n",
    "plt.figure(figsize=(10,8))\n",
    "sns.countplot(df['primary_fuel'])\n",
    "plt.show()"
   ]
  },
  {
   "cell_type": "markdown",
   "id": "175b9e16",
   "metadata": {},
   "source": [
    "from this plot we analyise that data is imbalance soe we have to balance the data"
   ]
  },
  {
   "cell_type": "code",
   "execution_count": 26,
   "id": "9f6c97fc",
   "metadata": {},
   "outputs": [
    {
     "data": {
      "image/png": "[encoded data removed]",
      "text/plain": [
       "<Figure size 720x720 with 4 Axes>"
      ]
     },
     "metadata": {
      "needs_background": "light"
     },
     "output_type": "display_data"
    }
   ],
   "source": [
    "#Visualize the numerical column data\n",
    "plt.figure(figsize=(10,10))\n",
    "plotnum=1\n",
    "for i in num_col:\n",
    "    if plotnum<=4:\n",
    "        ax=plt.subplot(2,2,plotnum)\n",
    "        sns.distplot(df[i],color='g')\n",
    "        plt.xlabel(i,fontsize=15)\n",
    "    plotnum+=1\n",
    "plt.tight_layout()"
   ]
  },
  {
   "cell_type": "code",
   "execution_count": 27,
   "id": "cbec900e",
   "metadata": {},
   "outputs": [
    {
     "data": {
      "image/png": "[encoded data removed]",
      "text/plain": [
       "<Figure size 1080x576 with 1 Axes>"
      ]
     },
     "metadata": {
      "needs_background": "light"
     },
     "output_type": "display_data"
    }
   ],
   "source": [
    "#check the relation between source $ capacity_mw\n",
    "plt.figure(figsize=(15,8))\n",
    "sns.barplot(x=\"geolocation_source\",y=\"capacity_mw\",data=df)\n",
    "plt.show()"
   ]
  },
  {
   "cell_type": "code",
   "execution_count": 28,
   "id": "2984165c",
   "metadata": {},
   "outputs": [
    {
     "data": {
      "image/png": "[encoded data removed]",
      "text/plain": [
       "<Figure size 432x288 with 1 Axes>"
      ]
     },
     "metadata": {
      "needs_background": "light"
     },
     "output_type": "display_data"
    }
   ],
   "source": [
    "sns.scatterplot(x='PP_age',y='capacity_mw',data=df)\n",
    "plt.show()"
   ]
  },
  {
   "cell_type": "markdown",
   "id": "4ffa5ea5",
   "metadata": {},
   "source": [
    "old power plant generate less mega watt for power generation"
   ]
  },
  {
   "cell_type": "code",
   "execution_count": 29,
   "id": "5100c672",
   "metadata": {},
   "outputs": [
    {
     "data": {
      "image/png": "[encoded data removed]",
      "text/plain": [
       "<Figure size 432x288 with 1 Axes>"
      ]
     },
     "metadata": {
      "needs_background": "light"
     },
     "output_type": "display_data"
    }
   ],
   "source": [
    "sns.scatterplot(x='longitude',y='capacity_mw',data=df)\n",
    "plt.show()"
   ]
  },
  {
   "cell_type": "markdown",
   "id": "529712ee",
   "metadata": {},
   "source": [
    "highest electicity generation with respect to longitude geolocation is high at 70 and also in between 80-85"
   ]
  },
  {
   "cell_type": "code",
   "execution_count": 30,
   "id": "be10f754",
   "metadata": {},
   "outputs": [
    {
     "data": {
      "image/png": "[encoded data removed]",
      "text/plain": [
       "<Figure size 432x288 with 1 Axes>"
      ]
     },
     "metadata": {
      "needs_background": "light"
     },
     "output_type": "display_data"
    }
   ],
   "source": [
    "sns.scatterplot(x='latitude',y='capacity_mw',data=df)\n",
    "plt.show()"
   ]
  },
  {
   "cell_type": "markdown",
   "id": "e7f64745",
   "metadata": {},
   "source": [
    "highest elecricty genraion wrt latitude geolocation is high between  20-25 degree"
   ]
  },
  {
   "cell_type": "code",
   "execution_count": 31,
   "id": "c07798ff",
   "metadata": {},
   "outputs": [
    {
     "data": {
      "image/png": "[encoded data removed]",
      "text/plain": [
       "<Figure size 360x360 with 1 Axes>"
      ]
     },
     "metadata": {
      "needs_background": "light"
     },
     "output_type": "display_data"
    }
   ],
   "source": [
    "sns.catplot(x='primary_fuel',y='capacity_mw',data=df)\n",
    "plt.show()"
   ]
  },
  {
   "cell_type": "markdown",
   "id": "a3dd085d",
   "metadata": {},
   "source": [
    "seeing this graph we see that coal generate more electricity and biomass least"
   ]
  },
  {
   "cell_type": "code",
   "execution_count": 32,
   "id": "c1f42078",
   "metadata": {},
   "outputs": [
    {
     "data": {
      "image/png": "[encoded data removed]",
      "text/plain": [
       "<Figure size 720x720 with 4 Axes>"
      ]
     },
     "metadata": {
      "needs_background": "light"
     },
     "output_type": "display_data"
    }
   ],
   "source": [
    "# Boxplot for numerical columns to see outlier\n",
    "plt.figure(figsize=(10,10))\n",
    "plotnum=1\n",
    "for i in num_col:\n",
    "    if plotnum<=4:\n",
    "        ax=plt.subplot(2,2,plotnum)\n",
    "        sns.boxplot(df[i],color='g')\n",
    "        plt.xlabel(i,fontsize=15)\n",
    "    plotnum+=1\n",
    "plt.tight_layout()"
   ]
  },
  {
   "cell_type": "code",
   "execution_count": 33,
   "id": "f619c46a",
   "metadata": {},
   "outputs": [
    {
     "data": {
      "text/plain": [
       "<seaborn.axisgrid.PairGrid at 0x145bba3c8e0>"
      ]
     },
     "execution_count": 33,
     "metadata": {},
     "output_type": "execute_result"
    },
    {
     "data": {
      "image/png": "[encoded data removed]",
      "text/plain": [
       "<Figure size 720x720 with 20 Axes>"
      ]
     },
     "metadata": {
      "needs_background": "light"
     },
     "output_type": "display_data"
    }
   ],
   "source": [
    "sns.pairplot(df)"
   ]
  },
  {
   "cell_type": "code",
   "execution_count": 34,
   "id": "bc3f06a3",
   "metadata": {},
   "outputs": [
    {
     "data": {
      "text/html": [
       "<div>\n",
       "<style scoped>\n",
       "    .dataframe tbody tr th:only-of-type {\n",
       "        vertical-align: middle;\n",
       "    }\n",
       "\n",
       "    .dataframe tbody tr th {\n",
       "        vertical-align: top;\n",
       "    }\n",
       "\n",
       "    .dataframe thead th {\n",
       "        text-align: right;\n",
       "    }\n",
       "</style>\n",
       "<table border=\"1\" class=\"dataframe\">\n",
       "  <thead>\n",
       "    <tr style=\"text-align: right;\">\n",
       "      <th></th>\n",
       "      <th>capacity_mw</th>\n",
       "      <th>latitude</th>\n",
       "      <th>longitude</th>\n",
       "      <th>primary_fuel</th>\n",
       "      <th>source</th>\n",
       "      <th>geolocation_source</th>\n",
       "      <th>PP_age</th>\n",
       "    </tr>\n",
       "  </thead>\n",
       "  <tbody>\n",
       "    <tr>\n",
       "      <th>0</th>\n",
       "      <td>2.5</td>\n",
       "      <td>28.1839</td>\n",
       "      <td>73.2407</td>\n",
       "      <td>6</td>\n",
       "      <td>National Renewable Energy Laboratory</td>\n",
       "      <td>National Renewable Energy Laboratory</td>\n",
       "      <td>8.0</td>\n",
       "    </tr>\n",
       "    <tr>\n",
       "      <th>1</th>\n",
       "      <td>98.0</td>\n",
       "      <td>24.7663</td>\n",
       "      <td>74.6090</td>\n",
       "      <td>1</td>\n",
       "      <td>Ultratech Cement ltd</td>\n",
       "      <td>WRI</td>\n",
       "      <td>4.0</td>\n",
       "    </tr>\n",
       "    <tr>\n",
       "      <th>2</th>\n",
       "      <td>39.2</td>\n",
       "      <td>21.9038</td>\n",
       "      <td>69.3732</td>\n",
       "      <td>7</td>\n",
       "      <td>CDM</td>\n",
       "      <td>WRI</td>\n",
       "      <td>4.0</td>\n",
       "    </tr>\n",
       "    <tr>\n",
       "      <th>3</th>\n",
       "      <td>135.0</td>\n",
       "      <td>23.8712</td>\n",
       "      <td>91.3602</td>\n",
       "      <td>2</td>\n",
       "      <td>Central Electricity Authority</td>\n",
       "      <td>WRI</td>\n",
       "      <td>15.0</td>\n",
       "    </tr>\n",
       "    <tr>\n",
       "      <th>4</th>\n",
       "      <td>1800.0</td>\n",
       "      <td>21.9603</td>\n",
       "      <td>82.4091</td>\n",
       "      <td>1</td>\n",
       "      <td>Central Electricity Authority</td>\n",
       "      <td>WRI</td>\n",
       "      <td>4.0</td>\n",
       "    </tr>\n",
       "  </tbody>\n",
       "</table>\n",
       "</div>"
      ],
      "text/plain": [
       "   capacity_mw  latitude  longitude  primary_fuel  \\\n",
       "0          2.5   28.1839    73.2407             6   \n",
       "1         98.0   24.7663    74.6090             1   \n",
       "2         39.2   21.9038    69.3732             7   \n",
       "3        135.0   23.8712    91.3602             2   \n",
       "4       1800.0   21.9603    82.4091             1   \n",
       "\n",
       "                                 source                    geolocation_source  \\\n",
       "0  National Renewable Energy Laboratory  National Renewable Energy Laboratory   \n",
       "1                  Ultratech Cement ltd                                   WRI   \n",
       "2                                   CDM                                   WRI   \n",
       "3         Central Electricity Authority                                   WRI   \n",
       "4         Central Electricity Authority                                   WRI   \n",
       "\n",
       "   PP_age  \n",
       "0     8.0  \n",
       "1     4.0  \n",
       "2     4.0  \n",
       "3    15.0  \n",
       "4     4.0  "
      ]
     },
     "execution_count": 34,
     "metadata": {},
     "output_type": "execute_result"
    }
   ],
   "source": [
    "#encoding primarya-fuel data columns as Label is used for dependent variable\n",
    "from sklearn.preprocessing import LabelEncoder\n",
    "le=LabelEncoder()\n",
    "df['primary_fuel']=le.fit_transform(df['primary_fuel'])\n",
    "df.head()"
   ]
  },
  {
   "cell_type": "code",
   "execution_count": 35,
   "id": "ea729236",
   "metadata": {},
   "outputs": [
    {
     "data": {
      "text/html": [
       "<div>\n",
       "<style scoped>\n",
       "    .dataframe tbody tr th:only-of-type {\n",
       "        vertical-align: middle;\n",
       "    }\n",
       "\n",
       "    .dataframe tbody tr th {\n",
       "        vertical-align: top;\n",
       "    }\n",
       "\n",
       "    .dataframe thead th {\n",
       "        text-align: right;\n",
       "    }\n",
       "</style>\n",
       "<table border=\"1\" class=\"dataframe\">\n",
       "  <thead>\n",
       "    <tr style=\"text-align: right;\">\n",
       "      <th></th>\n",
       "      <th>capacity_mw</th>\n",
       "      <th>latitude</th>\n",
       "      <th>longitude</th>\n",
       "      <th>primary_fuel</th>\n",
       "      <th>source</th>\n",
       "      <th>geolocation_source</th>\n",
       "      <th>PP_age</th>\n",
       "    </tr>\n",
       "  </thead>\n",
       "  <tbody>\n",
       "    <tr>\n",
       "      <th>0</th>\n",
       "      <td>2.5</td>\n",
       "      <td>28.1839</td>\n",
       "      <td>73.2407</td>\n",
       "      <td>6</td>\n",
       "      <td>109.0</td>\n",
       "      <td>1.0</td>\n",
       "      <td>8.0</td>\n",
       "    </tr>\n",
       "    <tr>\n",
       "      <th>1</th>\n",
       "      <td>98.0</td>\n",
       "      <td>24.7663</td>\n",
       "      <td>74.6090</td>\n",
       "      <td>1</td>\n",
       "      <td>174.0</td>\n",
       "      <td>2.0</td>\n",
       "      <td>4.0</td>\n",
       "    </tr>\n",
       "    <tr>\n",
       "      <th>2</th>\n",
       "      <td>39.2</td>\n",
       "      <td>21.9038</td>\n",
       "      <td>69.3732</td>\n",
       "      <td>7</td>\n",
       "      <td>21.0</td>\n",
       "      <td>2.0</td>\n",
       "      <td>4.0</td>\n",
       "    </tr>\n",
       "    <tr>\n",
       "      <th>3</th>\n",
       "      <td>135.0</td>\n",
       "      <td>23.8712</td>\n",
       "      <td>91.3602</td>\n",
       "      <td>2</td>\n",
       "      <td>22.0</td>\n",
       "      <td>2.0</td>\n",
       "      <td>15.0</td>\n",
       "    </tr>\n",
       "    <tr>\n",
       "      <th>4</th>\n",
       "      <td>1800.0</td>\n",
       "      <td>21.9603</td>\n",
       "      <td>82.4091</td>\n",
       "      <td>1</td>\n",
       "      <td>22.0</td>\n",
       "      <td>2.0</td>\n",
       "      <td>4.0</td>\n",
       "    </tr>\n",
       "  </tbody>\n",
       "</table>\n",
       "</div>"
      ],
      "text/plain": [
       "   capacity_mw  latitude  longitude  primary_fuel  source  geolocation_source  \\\n",
       "0          2.5   28.1839    73.2407             6   109.0                 1.0   \n",
       "1         98.0   24.7663    74.6090             1   174.0                 2.0   \n",
       "2         39.2   21.9038    69.3732             7    21.0                 2.0   \n",
       "3        135.0   23.8712    91.3602             2    22.0                 2.0   \n",
       "4       1800.0   21.9603    82.4091             1    22.0                 2.0   \n",
       "\n",
       "   PP_age  \n",
       "0     8.0  \n",
       "1     4.0  \n",
       "2     4.0  \n",
       "3    15.0  \n",
       "4     4.0  "
      ]
     },
     "execution_count": 35,
     "metadata": {},
     "output_type": "execute_result"
    }
   ],
   "source": [
    "#Ordinal Encoder using for all features so that data get all numerical values\n",
    "from sklearn.preprocessing import OrdinalEncoder\n",
    "oe=OrdinalEncoder()\n",
    "df['source']=oe.fit_transform(df['source'].values.reshape(-1,1))\n",
    "df['geolocation_source']=oe.fit_transform(df['geolocation_source'].values.reshape(-1,1))\n",
    "df.head()"
   ]
  },
  {
   "cell_type": "code",
   "execution_count": 36,
   "id": "65eefb3a",
   "metadata": {},
   "outputs": [
    {
     "data": {
      "text/html": [
       "<div>\n",
       "<style scoped>\n",
       "    .dataframe tbody tr th:only-of-type {\n",
       "        vertical-align: middle;\n",
       "    }\n",
       "\n",
       "    .dataframe tbody tr th {\n",
       "        vertical-align: top;\n",
       "    }\n",
       "\n",
       "    .dataframe thead th {\n",
       "        text-align: right;\n",
       "    }\n",
       "</style>\n",
       "<table border=\"1\" class=\"dataframe\">\n",
       "  <thead>\n",
       "    <tr style=\"text-align: right;\">\n",
       "      <th></th>\n",
       "      <th>capacity_mw</th>\n",
       "      <th>latitude</th>\n",
       "      <th>longitude</th>\n",
       "      <th>primary_fuel</th>\n",
       "      <th>source</th>\n",
       "      <th>geolocation_source</th>\n",
       "      <th>PP_age</th>\n",
       "    </tr>\n",
       "  </thead>\n",
       "  <tbody>\n",
       "    <tr>\n",
       "      <th>capacity_mw</th>\n",
       "      <td>1.000000</td>\n",
       "      <td>0.050984</td>\n",
       "      <td>0.195882</td>\n",
       "      <td>-0.380395</td>\n",
       "      <td>-0.242122</td>\n",
       "      <td>0.204865</td>\n",
       "      <td>0.004072</td>\n",
       "    </tr>\n",
       "    <tr>\n",
       "      <th>latitude</th>\n",
       "      <td>0.050984</td>\n",
       "      <td>1.000000</td>\n",
       "      <td>0.036362</td>\n",
       "      <td>-0.010204</td>\n",
       "      <td>0.055927</td>\n",
       "      <td>-0.184275</td>\n",
       "      <td>-0.034519</td>\n",
       "    </tr>\n",
       "    <tr>\n",
       "      <th>longitude</th>\n",
       "      <td>0.195882</td>\n",
       "      <td>0.036362</td>\n",
       "      <td>1.000000</td>\n",
       "      <td>-0.347948</td>\n",
       "      <td>-0.239333</td>\n",
       "      <td>0.252343</td>\n",
       "      <td>0.159025</td>\n",
       "    </tr>\n",
       "    <tr>\n",
       "      <th>primary_fuel</th>\n",
       "      <td>-0.380395</td>\n",
       "      <td>-0.010204</td>\n",
       "      <td>-0.347948</td>\n",
       "      <td>1.000000</td>\n",
       "      <td>0.053613</td>\n",
       "      <td>-0.483217</td>\n",
       "      <td>-0.164947</td>\n",
       "    </tr>\n",
       "    <tr>\n",
       "      <th>source</th>\n",
       "      <td>-0.242122</td>\n",
       "      <td>0.055927</td>\n",
       "      <td>-0.239333</td>\n",
       "      <td>0.053613</td>\n",
       "      <td>1.000000</td>\n",
       "      <td>-0.505720</td>\n",
       "      <td>-0.322222</td>\n",
       "    </tr>\n",
       "    <tr>\n",
       "      <th>geolocation_source</th>\n",
       "      <td>0.204865</td>\n",
       "      <td>-0.184275</td>\n",
       "      <td>0.252343</td>\n",
       "      <td>-0.483217</td>\n",
       "      <td>-0.505720</td>\n",
       "      <td>1.000000</td>\n",
       "      <td>0.259929</td>\n",
       "    </tr>\n",
       "    <tr>\n",
       "      <th>PP_age</th>\n",
       "      <td>0.004072</td>\n",
       "      <td>-0.034519</td>\n",
       "      <td>0.159025</td>\n",
       "      <td>-0.164947</td>\n",
       "      <td>-0.322222</td>\n",
       "      <td>0.259929</td>\n",
       "      <td>1.000000</td>\n",
       "    </tr>\n",
       "  </tbody>\n",
       "</table>\n",
       "</div>"
      ],
      "text/plain": [
       "                    capacity_mw  latitude  longitude  primary_fuel    source  \\\n",
       "capacity_mw            1.000000  0.050984   0.195882     -0.380395 -0.242122   \n",
       "latitude               0.050984  1.000000   0.036362     -0.010204  0.055927   \n",
       "longitude              0.195882  0.036362   1.000000     -0.347948 -0.239333   \n",
       "primary_fuel          -0.380395 -0.010204  -0.347948      1.000000  0.053613   \n",
       "source                -0.242122  0.055927  -0.239333      0.053613  1.000000   \n",
       "geolocation_source     0.204865 -0.184275   0.252343     -0.483217 -0.505720   \n",
       "PP_age                 0.004072 -0.034519   0.159025     -0.164947 -0.322222   \n",
       "\n",
       "                    geolocation_source    PP_age  \n",
       "capacity_mw                   0.204865  0.004072  \n",
       "latitude                     -0.184275 -0.034519  \n",
       "longitude                     0.252343  0.159025  \n",
       "primary_fuel                 -0.483217 -0.164947  \n",
       "source                       -0.505720 -0.322222  \n",
       "geolocation_source            1.000000  0.259929  \n",
       "PP_age                        0.259929  1.000000  "
      ]
     },
     "execution_count": 36,
     "metadata": {},
     "output_type": "execute_result"
    }
   ],
   "source": [
    "df.corr() # correlation matirx"
   ]
  },
  {
   "cell_type": "markdown",
   "id": "3605706f",
   "metadata": {},
   "source": [
    "## Heatmap"
   ]
  },
  {
   "cell_type": "code",
   "execution_count": 37,
   "id": "f9dca259",
   "metadata": {},
   "outputs": [
    {
     "data": {
      "image/png": "[encoded data removed]",
      "text/plain": [
       "<Figure size 432x288 with 2 Axes>"
      ]
     },
     "metadata": {
      "needs_background": "light"
     },
     "output_type": "display_data"
    }
   ],
   "source": [
    "sns.heatmap(df.corr(),annot=True, linecolor='black',linewidth=0.5, fmt='.2f')\n",
    "plt.show()"
   ]
  },
  {
   "cell_type": "code",
   "execution_count": 38,
   "id": "c21fc436",
   "metadata": {},
   "outputs": [
    {
     "data": {
      "text/plain": [
       "capacity_mw           3.123576\n",
       "latitude             -0.149698\n",
       "longitude             1.141881\n",
       "primary_fuel          0.472251\n",
       "source                1.827373\n",
       "geolocation_source   -2.159841\n",
       "PP_age                1.714873\n",
       "dtype: float64"
      ]
     },
     "execution_count": 38,
     "metadata": {},
     "output_type": "execute_result"
    }
   ],
   "source": [
    "df.skew()"
   ]
  },
  {
   "cell_type": "code",
   "execution_count": 39,
   "id": "522198e8",
   "metadata": {},
   "outputs": [
    {
     "data": {
      "image/png": "[encoded data removed]",
      "text/plain": [
       "<Figure size 720x576 with 1 Axes>"
      ]
     },
     "metadata": {
      "needs_background": "light"
     },
     "output_type": "display_data"
    }
   ],
   "source": [
    "corr=df.corr()\n",
    "plt.figure(figsize=(10,8))\n",
    "corr['primary_fuel'].sort_values(ascending=False).drop('primary_fuel').plot.bar()\n",
    "plt.title(\"Correlation of Features vs Label(Classification)\\n\", fontsize=18)\n",
    "plt.xlabel('\\nFeatures List', fontsize=15)\n",
    "plt.ylabel('Correlation Value', fontsize=15)\n",
    "plt.show()"
   ]
  },
  {
   "cell_type": "code",
   "execution_count": 40,
   "id": "df60cec1",
   "metadata": {},
   "outputs": [
    {
     "data": {
      "text/plain": [
       "Text(0, 0.5, 'Correlation Value')"
      ]
     },
     "execution_count": 40,
     "metadata": {},
     "output_type": "execute_result"
    },
    {
     "data": {
      "image/png": "[encoded data removed]",
      "text/plain": [
       "<Figure size 720x576 with 1 Axes>"
      ]
     },
     "metadata": {
      "needs_background": "light"
     },
     "output_type": "display_data"
    }
   ],
   "source": [
    "corr=df.corr()\n",
    "plt.figure(figsize=(10,8))\n",
    "corr['capacity_mw'].sort_values(ascending=False).drop('capacity_mw').plot.bar()\n",
    "plt.title(\"Correlation of Features vs Label(Regression)\\n\", fontsize=18)\n",
    "plt.xlabel('\\nFeatures List', fontsize=15)\n",
    "plt.ylabel('Correlation Value', fontsize=15)"
   ]
  },
  {
   "cell_type": "code",
   "execution_count": 41,
   "id": "6defc994",
   "metadata": {},
   "outputs": [],
   "source": [
    "from sklearn import metrics\n",
    "from scipy.stats import zscore"
   ]
  },
  {
   "cell_type": "code",
   "execution_count": 42,
   "id": "2288c947",
   "metadata": {},
   "outputs": [],
   "source": [
    "z=np.abs(zscore(df))\n",
    "threshold=3\n",
    "df_new=df[(z<3).all(axis=1)]\n",
    "df=df_new.copy()"
   ]
  },
  {
   "cell_type": "code",
   "execution_count": 43,
   "id": "1496d7aa",
   "metadata": {},
   "outputs": [
    {
     "name": "stdout",
     "output_type": "stream",
     "text": [
      "(838, 7)\n"
     ]
    }
   ],
   "source": [
    "print(df.shape)\n"
   ]
  },
  {
   "cell_type": "code",
   "execution_count": 44,
   "id": "d49f80cc",
   "metadata": {},
   "outputs": [
    {
     "data": {
      "text/plain": [
       "7.6074972436604185"
      ]
     },
     "execution_count": 44,
     "metadata": {},
     "output_type": "execute_result"
    }
   ],
   "source": [
    "loss=(907-838)/907*100\n",
    "loss"
   ]
  },
  {
   "cell_type": "markdown",
   "id": "9b7f2ca7",
   "metadata": {},
   "source": [
    "as we see loss percentage is 7% so we can go ahead to build a model"
   ]
  },
  {
   "cell_type": "markdown",
   "id": "a11678dc",
   "metadata": {},
   "source": [
    "## using log transform for skewness"
   ]
  },
  {
   "cell_type": "code",
   "execution_count": 45,
   "id": "9bc87afc",
   "metadata": {},
   "outputs": [],
   "source": [
    "for col in num_col:\n",
    "    if df.skew().loc[col]>0.55:\n",
    "        df[col]=np.log1p(df[col])"
   ]
  },
  {
   "cell_type": "code",
   "execution_count": 46,
   "id": "8bb1a398",
   "metadata": {},
   "outputs": [
    {
     "data": {
      "text/plain": [
       "capacity_mw           0.066722\n",
       "latitude             -0.112601\n",
       "longitude             0.721407\n",
       "primary_fuel          0.418559\n",
       "source                1.792245\n",
       "geolocation_source   -2.112259\n",
       "PP_age                0.650535\n",
       "dtype: float64"
      ]
     },
     "execution_count": 46,
     "metadata": {},
     "output_type": "execute_result"
    }
   ],
   "source": [
    "df.skew()"
   ]
  },
  {
   "cell_type": "markdown",
   "id": "7855a6bb",
   "metadata": {},
   "source": [
    "## splitting the data into  x and y variables"
   ]
  },
  {
   "cell_type": "code",
   "execution_count": 47,
   "id": "4818de5b",
   "metadata": {},
   "outputs": [],
   "source": [
    "x=df.drop('capacity_mw',axis=1)\n",
    "y=df['capacity_mw']"
   ]
  },
  {
   "cell_type": "code",
   "execution_count": 48,
   "id": "128f1bc3",
   "metadata": {},
   "outputs": [],
   "source": [
    "from sklearn.preprocessing import StandardScaler"
   ]
  },
  {
   "cell_type": "code",
   "execution_count": 49,
   "id": "a1ce7ac8",
   "metadata": {},
   "outputs": [
    {
     "data": {
      "text/html": [
       "<div>\n",
       "<style scoped>\n",
       "    .dataframe tbody tr th:only-of-type {\n",
       "        vertical-align: middle;\n",
       "    }\n",
       "\n",
       "    .dataframe tbody tr th {\n",
       "        vertical-align: top;\n",
       "    }\n",
       "\n",
       "    .dataframe thead th {\n",
       "        text-align: right;\n",
       "    }\n",
       "</style>\n",
       "<table border=\"1\" class=\"dataframe\">\n",
       "  <thead>\n",
       "    <tr style=\"text-align: right;\">\n",
       "      <th></th>\n",
       "      <th>latitude</th>\n",
       "      <th>longitude</th>\n",
       "      <th>primary_fuel</th>\n",
       "      <th>source</th>\n",
       "      <th>geolocation_source</th>\n",
       "      <th>PP_age</th>\n",
       "    </tr>\n",
       "  </thead>\n",
       "  <tbody>\n",
       "    <tr>\n",
       "      <th>0</th>\n",
       "      <td>1.155327</td>\n",
       "      <td>-0.905807</td>\n",
       "      <td>1.174653</td>\n",
       "      <td>1.578700</td>\n",
       "      <td>-1.059632</td>\n",
       "      <td>-0.087614</td>\n",
       "    </tr>\n",
       "    <tr>\n",
       "      <th>1</th>\n",
       "      <td>0.598448</td>\n",
       "      <td>-0.567933</td>\n",
       "      <td>-0.986874</td>\n",
       "      <td>3.125148</td>\n",
       "      <td>0.400848</td>\n",
       "      <td>-0.780279</td>\n",
       "    </tr>\n",
       "    <tr>\n",
       "      <th>2</th>\n",
       "      <td>0.132019</td>\n",
       "      <td>-1.895590</td>\n",
       "      <td>1.606958</td>\n",
       "      <td>-0.514953</td>\n",
       "      <td>0.400848</td>\n",
       "      <td>-0.780279</td>\n",
       "    </tr>\n",
       "    <tr>\n",
       "      <th>3</th>\n",
       "      <td>0.452596</td>\n",
       "      <td>3.134428</td>\n",
       "      <td>-0.554568</td>\n",
       "      <td>-0.491161</td>\n",
       "      <td>0.400848</td>\n",
       "      <td>0.590412</td>\n",
       "    </tr>\n",
       "    <tr>\n",
       "      <th>4</th>\n",
       "      <td>0.141226</td>\n",
       "      <td>1.248497</td>\n",
       "      <td>-0.986874</td>\n",
       "      <td>-0.491161</td>\n",
       "      <td>0.400848</td>\n",
       "      <td>-0.780279</td>\n",
       "    </tr>\n",
       "  </tbody>\n",
       "</table>\n",
       "</div>"
      ],
      "text/plain": [
       "   latitude  longitude  primary_fuel    source  geolocation_source    PP_age\n",
       "0  1.155327  -0.905807      1.174653  1.578700           -1.059632 -0.087614\n",
       "1  0.598448  -0.567933     -0.986874  3.125148            0.400848 -0.780279\n",
       "2  0.132019  -1.895590      1.606958 -0.514953            0.400848 -0.780279\n",
       "3  0.452596   3.134428     -0.554568 -0.491161            0.400848  0.590412\n",
       "4  0.141226   1.248497     -0.986874 -0.491161            0.400848 -0.780279"
      ]
     },
     "execution_count": 49,
     "metadata": {},
     "output_type": "execute_result"
    }
   ],
   "source": [
    "sc=StandardScaler()\n",
    "x=pd.DataFrame(sc.fit_transform(x),columns=x.columns)\n",
    "x.head()"
   ]
  },
  {
   "cell_type": "code",
   "execution_count": 50,
   "id": "6c44921c",
   "metadata": {},
   "outputs": [
    {
     "data": {
      "text/html": [
       "<div>\n",
       "<style scoped>\n",
       "    .dataframe tbody tr th:only-of-type {\n",
       "        vertical-align: middle;\n",
       "    }\n",
       "\n",
       "    .dataframe tbody tr th {\n",
       "        vertical-align: top;\n",
       "    }\n",
       "\n",
       "    .dataframe thead th {\n",
       "        text-align: right;\n",
       "    }\n",
       "</style>\n",
       "<table border=\"1\" class=\"dataframe\">\n",
       "  <thead>\n",
       "    <tr style=\"text-align: right;\">\n",
       "      <th></th>\n",
       "      <th>Features</th>\n",
       "      <th>VIF values</th>\n",
       "    </tr>\n",
       "  </thead>\n",
       "  <tbody>\n",
       "    <tr>\n",
       "      <th>0</th>\n",
       "      <td>latitude</td>\n",
       "      <td>1.059069</td>\n",
       "    </tr>\n",
       "    <tr>\n",
       "      <th>1</th>\n",
       "      <td>longitude</td>\n",
       "      <td>1.267693</td>\n",
       "    </tr>\n",
       "    <tr>\n",
       "      <th>2</th>\n",
       "      <td>primary_fuel</td>\n",
       "      <td>1.645071</td>\n",
       "    </tr>\n",
       "    <tr>\n",
       "      <th>3</th>\n",
       "      <td>source</td>\n",
       "      <td>1.689698</td>\n",
       "    </tr>\n",
       "    <tr>\n",
       "      <th>4</th>\n",
       "      <td>geolocation_source</td>\n",
       "      <td>1.966052</td>\n",
       "    </tr>\n",
       "    <tr>\n",
       "      <th>5</th>\n",
       "      <td>PP_age</td>\n",
       "      <td>1.237737</td>\n",
       "    </tr>\n",
       "  </tbody>\n",
       "</table>\n",
       "</div>"
      ],
      "text/plain": [
       "             Features  VIF values\n",
       "0            latitude    1.059069\n",
       "1           longitude    1.267693\n",
       "2        primary_fuel    1.645071\n",
       "3              source    1.689698\n",
       "4  geolocation_source    1.966052\n",
       "5              PP_age    1.237737"
      ]
     },
     "execution_count": 50,
     "metadata": {},
     "output_type": "execute_result"
    }
   ],
   "source": [
    "# Finding varience inflation factor in each scaled column i.e, x.shape[1] (1/(1-R2))\n",
    "\n",
    "from statsmodels.stats.outliers_influence import variance_inflation_factor\n",
    "vif = pd.DataFrame()\n",
    "\n",
    "vif[\"Features\"] = x.columns\n",
    "vif[\"VIF values\"] = [variance_inflation_factor(x.values,i)\n",
    "              for i in range(len(x.columns))]\n",
    "\n",
    "vif"
   ]
  },
  {
   "cell_type": "code",
   "execution_count": 51,
   "id": "7d98c95a",
   "metadata": {},
   "outputs": [
    {
     "data": {
      "text/html": [
       "<div>\n",
       "<style scoped>\n",
       "    .dataframe tbody tr th:only-of-type {\n",
       "        vertical-align: middle;\n",
       "    }\n",
       "\n",
       "    .dataframe tbody tr th {\n",
       "        vertical-align: top;\n",
       "    }\n",
       "\n",
       "    .dataframe thead th {\n",
       "        text-align: right;\n",
       "    }\n",
       "</style>\n",
       "<table border=\"1\" class=\"dataframe\">\n",
       "  <thead>\n",
       "    <tr style=\"text-align: right;\">\n",
       "      <th></th>\n",
       "      <th>latitude</th>\n",
       "      <th>longitude</th>\n",
       "      <th>primary_fuel</th>\n",
       "      <th>source</th>\n",
       "      <th>geolocation_source</th>\n",
       "      <th>PP_age</th>\n",
       "    </tr>\n",
       "  </thead>\n",
       "  <tbody>\n",
       "    <tr>\n",
       "      <th>0</th>\n",
       "      <td>1.155327</td>\n",
       "      <td>-0.905807</td>\n",
       "      <td>1.174653</td>\n",
       "      <td>1.578700</td>\n",
       "      <td>-1.059632</td>\n",
       "      <td>-0.087614</td>\n",
       "    </tr>\n",
       "    <tr>\n",
       "      <th>1</th>\n",
       "      <td>0.598448</td>\n",
       "      <td>-0.567933</td>\n",
       "      <td>-0.986874</td>\n",
       "      <td>3.125148</td>\n",
       "      <td>0.400848</td>\n",
       "      <td>-0.780279</td>\n",
       "    </tr>\n",
       "    <tr>\n",
       "      <th>2</th>\n",
       "      <td>0.132019</td>\n",
       "      <td>-1.895590</td>\n",
       "      <td>1.606958</td>\n",
       "      <td>-0.514953</td>\n",
       "      <td>0.400848</td>\n",
       "      <td>-0.780279</td>\n",
       "    </tr>\n",
       "    <tr>\n",
       "      <th>3</th>\n",
       "      <td>0.452596</td>\n",
       "      <td>3.134428</td>\n",
       "      <td>-0.554568</td>\n",
       "      <td>-0.491161</td>\n",
       "      <td>0.400848</td>\n",
       "      <td>0.590412</td>\n",
       "    </tr>\n",
       "    <tr>\n",
       "      <th>4</th>\n",
       "      <td>0.141226</td>\n",
       "      <td>1.248497</td>\n",
       "      <td>-0.986874</td>\n",
       "      <td>-0.491161</td>\n",
       "      <td>0.400848</td>\n",
       "      <td>-0.780279</td>\n",
       "    </tr>\n",
       "  </tbody>\n",
       "</table>\n",
       "</div>"
      ],
      "text/plain": [
       "   latitude  longitude  primary_fuel    source  geolocation_source    PP_age\n",
       "0  1.155327  -0.905807      1.174653  1.578700           -1.059632 -0.087614\n",
       "1  0.598448  -0.567933     -0.986874  3.125148            0.400848 -0.780279\n",
       "2  0.132019  -1.895590      1.606958 -0.514953            0.400848 -0.780279\n",
       "3  0.452596   3.134428     -0.554568 -0.491161            0.400848  0.590412\n",
       "4  0.141226   1.248497     -0.986874 -0.491161            0.400848 -0.780279"
      ]
     },
     "execution_count": 51,
     "metadata": {},
     "output_type": "execute_result"
    }
   ],
   "source": [
    "x.head()"
   ]
  },
  {
   "cell_type": "markdown",
   "id": "39431d8d",
   "metadata": {},
   "source": [
    "# Model Building for Capacity_mw using Regression"
   ]
  },
  {
   "cell_type": "markdown",
   "id": "dd084cf0",
   "metadata": {},
   "source": [
    "### Splitting the data into ttrain and test"
   ]
  },
  {
   "cell_type": "code",
   "execution_count": 52,
   "id": "aeb57cbc",
   "metadata": {},
   "outputs": [],
   "source": [
    "from sklearn.model_selection import train_test_split"
   ]
  },
  {
   "cell_type": "code",
   "execution_count": 53,
   "id": "24c76fff",
   "metadata": {},
   "outputs": [],
   "source": [
    "x_train,x_test,y_train,y_test=train_test_split(x,y,test_size=0.20,random_state=200)"
   ]
  },
  {
   "cell_type": "code",
   "execution_count": 54,
   "id": "f7d8c6e3",
   "metadata": {},
   "outputs": [],
   "source": [
    "from sklearn.linear_model import LinearRegression,Ridge,Lasso\n",
    "from sklearn.svm import SVR\n",
    "from sklearn.tree import DecisionTreeRegressor\n",
    "from sklearn.ensemble import RandomForestRegressor, AdaBoostRegressor, GradientBoostingRegressor\n",
    "from sklearn.neighbors import KNeighborsRegressor\n",
    "from xgboost import XGBRegressor\n",
    "from sklearn.metrics import r2_score, mean_squared_error\n",
    "from sklearn.model_selection import cross_val_score"
   ]
  },
  {
   "cell_type": "markdown",
   "id": "f047855b",
   "metadata": {},
   "source": [
    "## Finding the best random state for building Regression Models"
   ]
  },
  {
   "cell_type": "code",
   "execution_count": 55,
   "id": "6712814e",
   "metadata": {},
   "outputs": [
    {
     "name": "stdout",
     "output_type": "stream",
     "text": [
      "Best R2 score is 55.774584522199255 on random state 170\n"
     ]
    }
   ],
   "source": [
    "max_acc=0\n",
    "max_RS=0\n",
    "for i in range(0,200):\n",
    "    x_train,x_test,y_train,y_test=train_test_split(x,y,test_size=0.20,random_state=i)\n",
    "    lr=LinearRegression()\n",
    "    lr.fit(x_train,y_train)\n",
    "    pred=lr.predict(x_test)\n",
    "    r2=r2_score(y_test,pred)*100\n",
    "    \n",
    "    if r2>max_acc:\n",
    "        max_acc=r2\n",
    "        max_RS=i\n",
    "print('Best R2 score is',max_acc, 'on random state', max_RS)"
   ]
  },
  {
   "cell_type": "code",
   "execution_count": 56,
   "id": "a81cd23d",
   "metadata": {},
   "outputs": [],
   "source": [
    "# Regression Model Function\n",
    "def reg(model,x,y):\n",
    "    x_train, x_test, y_train, y_test = train_test_split(x, y, test_size=0.20, random_state=170)\n",
    "    \n",
    "    # Training the model\n",
    "    model.fit(x_train,y_train)\n",
    "    \n",
    "    # Predicting Y_test\n",
    "    pred=model.predict(x_test)\n",
    "    \n",
    "    #  RMSE\n",
    "    rmse = mean_squared_error(y_test, pred, squared=False)\n",
    "    print(\"RMSE Score is:\", rmse)\n",
    "    \n",
    "    # R2 score\n",
    "    r2 = r2_score(y_test, pred, multioutput='variance_weighted')*100\n",
    "    print(\"R2 Score is:\", r2)\n",
    "    \n",
    "    # Cross Validation Score\n",
    "    cv_score = (cross_val_score(model, x,y, cv=5).mean())*100\n",
    "    print(\"Cross Validation Score:\", cv_score)\n",
    "    \n",
    "    # Result of r2 score minus cv score\n",
    "    result = r2 - cv_score\n",
    "    print(\"R2 Score - Cross Validation Score is\", result)"
   ]
  },
  {
   "cell_type": "code",
   "execution_count": 57,
   "id": "d514470d",
   "metadata": {},
   "outputs": [
    {
     "name": "stdout",
     "output_type": "stream",
     "text": [
      "RMSE Score is: 1.3020931408771774\n",
      "R2 Score is: 55.774584522199255\n",
      "Cross Validation Score: 41.980903775190086\n",
      "R2 Score - Cross Validation Score is 13.79368074700917\n"
     ]
    }
   ],
   "source": [
    "# Linear Regression\n",
    "model=LinearRegression()\n",
    "reg(model,x,y)"
   ]
  },
  {
   "cell_type": "code",
   "execution_count": 58,
   "id": "7877e0b5",
   "metadata": {},
   "outputs": [
    {
     "name": "stdout",
     "output_type": "stream",
     "text": [
      "RMSE Score is: 1.145972304840879\n",
      "R2 Score is: 65.74404627361045\n",
      "Cross Validation Score: 51.647218314630095\n",
      "R2 Score - Cross Validation Score is 14.096827958980356\n"
     ]
    }
   ],
   "source": [
    "# Support Vector Regression\n",
    "model=SVR()\n",
    "reg(model,x,y)"
   ]
  },
  {
   "cell_type": "code",
   "execution_count": 59,
   "id": "8f159405",
   "metadata": {},
   "outputs": [
    {
     "name": "stdout",
     "output_type": "stream",
     "text": [
      "RMSE Score is: 1.4320127387858816\n",
      "R2 Score is: 46.50889345730752\n",
      "Cross Validation Score: 34.21274056071755\n",
      "R2 Score - Cross Validation Score is 12.296152896589973\n"
     ]
    }
   ],
   "source": [
    "# Decision Tree Regressor\n",
    "model=DecisionTreeRegressor()\n",
    "reg(model,x,y)"
   ]
  },
  {
   "cell_type": "code",
   "execution_count": 60,
   "id": "bbc6cfa3",
   "metadata": {},
   "outputs": [
    {
     "name": "stdout",
     "output_type": "stream",
     "text": [
      "RMSE Score is: 1.0939963172554013\n",
      "R2 Score is: 68.78096034624029\n",
      "Cross Validation Score: 61.69807641754633\n",
      "R2 Score - Cross Validation Score is 7.08288392869396\n"
     ]
    }
   ],
   "source": [
    "#Random Forest Regressor\n",
    "model=RandomForestRegressor()\n",
    "reg(model,x,y)"
   ]
  },
  {
   "cell_type": "code",
   "execution_count": 61,
   "id": "d78833e5",
   "metadata": {},
   "outputs": [
    {
     "name": "stdout",
     "output_type": "stream",
     "text": [
      "RMSE Score is: 1.1939720765847774\n",
      "R2 Score is: 62.814283029567264\n",
      "Cross Validation Score: 54.72612014271911\n",
      "R2 Score - Cross Validation Score is 8.088162886848153\n"
     ]
    }
   ],
   "source": [
    "#NNeighbors Regressor\n",
    "model=KNeighborsRegressor()\n",
    "reg(model,x,y)"
   ]
  },
  {
   "cell_type": "code",
   "execution_count": 62,
   "id": "2d9400d4",
   "metadata": {},
   "outputs": [
    {
     "name": "stdout",
     "output_type": "stream",
     "text": [
      "RMSE Score is: 1.1931201572204033\n",
      "R2 Score is: 62.86732937989823\n",
      "Cross Validation Score: 55.834023355046924\n",
      "R2 Score - Cross Validation Score is 7.033306024851306\n"
     ]
    }
   ],
   "source": [
    "# AdaBoost Regression\n",
    "model=AdaBoostRegressor()\n",
    "reg(model,x,y)"
   ]
  },
  {
   "cell_type": "code",
   "execution_count": 63,
   "id": "de9c4495",
   "metadata": {},
   "outputs": [
    {
     "name": "stdout",
     "output_type": "stream",
     "text": [
      "RMSE Score is: 1.0579126933981757\n",
      "R2 Score is: 70.80641194903407\n",
      "Cross Validation Score: 61.06272772479111\n",
      "R2 Score - Cross Validation Score is 9.743684224242962\n"
     ]
    }
   ],
   "source": [
    "# Gradient Bossting Regression\n",
    "model=GradientBoostingRegressor()\n",
    "reg(model,x,y)"
   ]
  },
  {
   "cell_type": "code",
   "execution_count": 64,
   "id": "6564836e",
   "metadata": {},
   "outputs": [
    {
     "name": "stdout",
     "output_type": "stream",
     "text": [
      "RMSE Score is: 1.102206915178206\n",
      "R2 Score is: 68.3105952027755\n",
      "Cross Validation Score: 56.60949397314583\n",
      "R2 Score - Cross Validation Score is 11.701101229629671\n"
     ]
    }
   ],
   "source": [
    "# XGB Regressor\n",
    "model=XGBRegressor()\n",
    "reg(model,x,y)"
   ]
  },
  {
   "cell_type": "markdown",
   "id": "0052def9",
   "metadata": {},
   "source": [
    "## Hyper Tunig Parameter for best model"
   ]
  },
  {
   "cell_type": "code",
   "execution_count": 65,
   "id": "fc0fdd57",
   "metadata": {},
   "outputs": [],
   "source": [
    "from sklearn.model_selection import GridSearchCV"
   ]
  },
  {
   "cell_type": "code",
   "execution_count": 66,
   "id": "570f6fb2",
   "metadata": {},
   "outputs": [],
   "source": [
    "param={'criterion':['mse','mae'],'n_estimators':[50,100],'max_features':['auto','log2','sqrt'],'bootstrap':['True'],'max_depth':[2,4,6]}\n",
    "GSCV=GridSearchCV(RandomForestRegressor(), param,cv=5)\n"
   ]
  },
  {
   "cell_type": "code",
   "execution_count": 67,
   "id": "d2985f13",
   "metadata": {},
   "outputs": [
    {
     "data": {
      "text/plain": [
       "dict_keys(['bootstrap', 'ccp_alpha', 'criterion', 'max_depth', 'max_features', 'max_leaf_nodes', 'max_samples', 'min_impurity_decrease', 'min_impurity_split', 'min_samples_leaf', 'min_samples_split', 'min_weight_fraction_leaf', 'n_estimators', 'n_jobs', 'oob_score', 'random_state', 'verbose', 'warm_start'])"
      ]
     },
     "execution_count": 67,
     "metadata": {},
     "output_type": "execute_result"
    }
   ],
   "source": [
    "RandomForestRegressor().get_params().keys()\n"
   ]
  },
  {
   "cell_type": "code",
   "execution_count": 68,
   "id": "8c5f85fe",
   "metadata": {},
   "outputs": [
    {
     "data": {
      "text/plain": [
       "GridSearchCV(cv=5, estimator=RandomForestRegressor(),\n",
       "             param_grid={'bootstrap': ['True'], 'criterion': ['mse', 'mae'],\n",
       "                         'max_depth': [2, 4, 6],\n",
       "                         'max_features': ['auto', 'log2', 'sqrt'],\n",
       "                         'n_estimators': [50, 100]})"
      ]
     },
     "execution_count": 68,
     "metadata": {},
     "output_type": "execute_result"
    }
   ],
   "source": [
    "GSCV.fit(x_train,y_train)"
   ]
  },
  {
   "cell_type": "code",
   "execution_count": 76,
   "id": "fa096ef8",
   "metadata": {},
   "outputs": [
    {
     "data": {
      "text/plain": [
       "{'bootstrap': 'True',\n",
       " 'criterion': 'mae',\n",
       " 'max_depth': 6,\n",
       " 'max_features': 'log2',\n",
       " 'n_estimators': 100}"
      ]
     },
     "execution_count": 76,
     "metadata": {},
     "output_type": "execute_result"
    }
   ],
   "source": [
    "GSCV.best_params_"
   ]
  },
  {
   "cell_type": "code",
   "execution_count": 83,
   "id": "95ddaaca",
   "metadata": {},
   "outputs": [
    {
     "name": "stdout",
     "output_type": "stream",
     "text": [
      "RMSE value: 1.0791519896246637\n",
      "R2_Score: 64.17242416928575\n"
     ]
    }
   ],
   "source": [
    "capacity = RandomForestRegressor(criterion='mae', max_depth=6, max_features='log2', n_estimators=100,bootstrap=True)\n",
    "capacity.fit(x_train, y_train)\n",
    "pred = capacity.predict(x_test)\n",
    "print(\"RMSE value:\",np.sqrt(metrics.mean_squared_error(y_test, pred)))\n",
    "print('R2_Score:',r2_score(y_test,pred)*100)"
   ]
  },
  {
   "cell_type": "markdown",
   "id": "e4206d60",
   "metadata": {},
   "source": [
    "## HyperTUning with Gradient Boosting Regressor"
   ]
  },
  {
   "cell_type": "code",
   "execution_count": 84,
   "id": "06fea5be",
   "metadata": {},
   "outputs": [],
   "source": [
    "param1={'criterion':['mse','mae','friedman_mse','squared_error'],'n_estimators':[100,200,300],'learning_rate':[0.1,0.01],'max_features':['auto','log2','sqrt'],'max_depth':[2,4,6,8]}\n",
    "GSCV1=GridSearchCV(GradientBoostingRegressor(), param1,cv=5)"
   ]
  },
  {
   "cell_type": "code",
   "execution_count": 85,
   "id": "a3a80de4",
   "metadata": {},
   "outputs": [
    {
     "data": {
      "text/plain": [
       "GridSearchCV(cv=5, estimator=GradientBoostingRegressor(),\n",
       "             param_grid={'criterion': ['mse', 'mae', 'friedman_mse',\n",
       "                                       'squared_error'],\n",
       "                         'learning_rate': [0.1, 0.01],\n",
       "                         'max_depth': [2, 4, 6, 8],\n",
       "                         'max_features': ['auto', 'log2', 'sqrt'],\n",
       "                         'n_estimators': [100, 200, 300]})"
      ]
     },
     "execution_count": 85,
     "metadata": {},
     "output_type": "execute_result"
    }
   ],
   "source": [
    "GSCV1.fit(x_train,y_train)"
   ]
  },
  {
   "cell_type": "code",
   "execution_count": 86,
   "id": "f66538f6",
   "metadata": {},
   "outputs": [
    {
     "data": {
      "text/plain": [
       "{'criterion': 'mae',\n",
       " 'learning_rate': 0.01,\n",
       " 'max_depth': 8,\n",
       " 'max_features': 'sqrt',\n",
       " 'n_estimators': 300}"
      ]
     },
     "execution_count": 86,
     "metadata": {},
     "output_type": "execute_result"
    }
   ],
   "source": [
    "GSCV1.best_params_"
   ]
  },
  {
   "cell_type": "code",
   "execution_count": 94,
   "id": "40ccff17",
   "metadata": {},
   "outputs": [
    {
     "name": "stdout",
     "output_type": "stream",
     "text": [
      "R2_Score: 62.507276413752834\n"
     ]
    }
   ],
   "source": [
    "FM = GradientBoostingRegressor(criterion='mae',learning_rate=0.01, max_depth=8, max_features='sqrt', n_estimators=300)\n",
    "FM.fit(x_train, y_train)\n",
    "pred1= FM.predict(x_test)\n",
    "# print(\"RMSE value:\",np.sqrt(metrics.mean_squared_error(y_test, pred)))\n",
    "print('R2_Score:',r2_score(y_test,pred1)*100)"
   ]
  },
  {
   "cell_type": "code",
   "execution_count": null,
   "id": "311c9990",
   "metadata": {},
   "outputs": [],
   "source": []
  },
  {
   "cell_type": "markdown",
   "id": "3f21ba93",
   "metadata": {},
   "source": [
    "## Prediction for Primary Fuel using CLassification "
   ]
  },
  {
   "cell_type": "code",
   "execution_count": 95,
   "id": "f3bc4e54",
   "metadata": {},
   "outputs": [],
   "source": [
    "X = df.drop('primary_fuel', axis=1)\n",
    "Y = df['primary_fuel']"
   ]
  },
  {
   "cell_type": "code",
   "execution_count": 96,
   "id": "b86be9bc",
   "metadata": {},
   "outputs": [
    {
     "data": {
      "text/plain": [
       "1    234\n",
       "3    222\n",
       "7    123\n",
       "6    121\n",
       "2     64\n",
       "0     45\n",
       "5     20\n",
       "4      9\n",
       "Name: primary_fuel, dtype: int64"
      ]
     },
     "execution_count": 96,
     "metadata": {},
     "output_type": "execute_result"
    }
   ],
   "source": [
    "Y.value_counts()"
   ]
  },
  {
   "cell_type": "code",
   "execution_count": 97,
   "id": "4bbdf6e0",
   "metadata": {},
   "outputs": [
    {
     "data": {
      "image/png": "[encoded data removed]",
      "text/plain": [
       "<Figure size 432x288 with 1 Axes>"
      ]
     },
     "metadata": {
      "needs_background": "light"
     },
     "output_type": "display_data"
    }
   ],
   "source": [
    "g = sns.countplot(df['primary_fuel'])\n",
    "g.set_xticklabels(['0','1','2','3','4','5','6','7'])\n",
    "plt.show()"
   ]
  },
  {
   "cell_type": "code",
   "execution_count": 98,
   "id": "46740901",
   "metadata": {},
   "outputs": [
    {
     "name": "stdout",
     "output_type": "stream",
     "text": [
      "primary_fuel 0: (45, 7)\n",
      "primary_fuel 1: (234, 7)\n",
      "primary_fuel 2: (64, 7)\n",
      "primary_fuel 3: (222, 7)\n",
      "primary_fuel 4: (9, 7)\n",
      "primary_fuel 5: (20, 7)\n",
      "primary_fuel 6: (121, 7)\n",
      "primary_fuel 7: (123, 7)\n"
     ]
    }
   ],
   "source": [
    "# class count\n",
    "primary_fuel_count_0, primary_fuel_count_1,primary_fuel_count_2,primary_fuel_count_3,primary_fuel_count_4,primary_fuel_count_5,primary_fuel_count_6,primary_fuel_count_7= df['primary_fuel'].value_counts()\n",
    "\n",
    "# Separate class\n",
    "primary_fuel_0 = df[df['primary_fuel'] == 0]\n",
    "primary_fuel_1 = df[df['primary_fuel'] == 1]\n",
    "primary_fuel_2 = df[df['primary_fuel'] == 2]\n",
    "primary_fuel_3 = df[df['primary_fuel'] == 3]\n",
    "primary_fuel_4 = df[df['primary_fuel'] == 4]\n",
    "primary_fuel_5 = df[df['primary_fuel'] == 5]\n",
    "primary_fuel_6 = df[df['primary_fuel'] == 6]\n",
    "primary_fuel_7 = df[df['primary_fuel'] == 7]# print the shape of the class\n",
    "print('primary_fuel 0:', primary_fuel_0.shape)\n",
    "print('primary_fuel 1:', primary_fuel_1.shape)\n",
    "print('primary_fuel 2:', primary_fuel_2.shape)\n",
    "print('primary_fuel 3:', primary_fuel_3.shape)\n",
    "print('primary_fuel 4:', primary_fuel_4.shape)\n",
    "print('primary_fuel 5:', primary_fuel_5.shape)\n",
    "print('primary_fuel 6:', primary_fuel_6.shape)\n",
    "print('primary_fuel 7:', primary_fuel_7.shape)"
   ]
  },
  {
   "cell_type": "code",
   "execution_count": 99,
   "id": "94192553",
   "metadata": {},
   "outputs": [
    {
     "name": "stdout",
     "output_type": "stream",
     "text": [
      "total primary_fuel of 0,1,2,3,4,5,6 and 7: 0    234\n",
      "1    234\n",
      "2    234\n",
      "3    234\n",
      "4    234\n",
      "5    234\n",
      "6    234\n",
      "7    234\n",
      "Name: primary_fuel, dtype: int64\n"
     ]
    },
    {
     "data": {
      "text/plain": [
       "<AxesSubplot:title={'center':'count (target)'}>"
      ]
     },
     "execution_count": 99,
     "metadata": {},
     "output_type": "execute_result"
    },
    {
     "data": {
      "image/png": "[encoded data removed]",
      "text/plain": [
       "<Figure size 432x288 with 1 Axes>"
      ]
     },
     "metadata": {
      "needs_background": "light"
     },
     "output_type": "display_data"
    }
   ],
   "source": [
    "primary_fuel_7_over = primary_fuel_7.sample(primary_fuel_count_0, replace=True)\n",
    "primary_fuel_6_over = primary_fuel_6.sample(primary_fuel_count_0, replace=True)\n",
    "primary_fuel_5_over = primary_fuel_5.sample(primary_fuel_count_0, replace=True)\n",
    "primary_fuel_4_over = primary_fuel_4.sample(primary_fuel_count_0, replace=True)\n",
    "primary_fuel_3_over = primary_fuel_3.sample(primary_fuel_count_0, replace=True)\n",
    "primary_fuel_2_over = primary_fuel_2.sample(primary_fuel_count_0, replace=True)\n",
    "primary_fuel_1_over = primary_fuel_1.sample(primary_fuel_count_0, replace=True)\n",
    "primary_fuel_0_over = primary_fuel_0.sample(primary_fuel_count_0, replace=True)\n",
    "\n",
    "test_over= pd.concat([primary_fuel_7_over,primary_fuel_6_over,primary_fuel_5_over,primary_fuel_4_over,primary_fuel_3_over,primary_fuel_2_over,primary_fuel_1_over, primary_fuel_0_over], axis=0)\n",
    "\n",
    "print(\"total primary_fuel of 0,1,2,3,4,5,6 and 7:\",test_over['primary_fuel'].value_counts())# plot the count after under-sampeling\n",
    "test_over['primary_fuel'].value_counts().plot(kind='bar', title='count (target)')"
   ]
  },
  {
   "cell_type": "code",
   "execution_count": 100,
   "id": "340250cc",
   "metadata": {},
   "outputs": [
    {
     "data": {
      "text/plain": [
       "(838, 6)"
      ]
     },
     "execution_count": 100,
     "metadata": {},
     "output_type": "execute_result"
    }
   ],
   "source": [
    "X.shape"
   ]
  },
  {
   "cell_type": "code",
   "execution_count": 101,
   "id": "1efd2e78",
   "metadata": {},
   "outputs": [
    {
     "data": {
      "text/plain": [
       "(838,)"
      ]
     },
     "execution_count": 101,
     "metadata": {},
     "output_type": "execute_result"
    }
   ],
   "source": [
    "Y.shape"
   ]
  },
  {
   "cell_type": "code",
   "execution_count": 102,
   "id": "3a13e3b0",
   "metadata": {},
   "outputs": [
    {
     "data": {
      "text/plain": [
       "capacity_mw           0.066722\n",
       "latitude             -0.112601\n",
       "longitude             0.721407\n",
       "source                1.792245\n",
       "geolocation_source   -2.112259\n",
       "PP_age                0.650535\n",
       "dtype: float64"
      ]
     },
     "execution_count": 102,
     "metadata": {},
     "output_type": "execute_result"
    }
   ],
   "source": [
    "X.skew()"
   ]
  },
  {
   "cell_type": "code",
   "execution_count": 103,
   "id": "ec86c277",
   "metadata": {},
   "outputs": [
    {
     "data": {
      "text/html": [
       "<div>\n",
       "<style scoped>\n",
       "    .dataframe tbody tr th:only-of-type {\n",
       "        vertical-align: middle;\n",
       "    }\n",
       "\n",
       "    .dataframe tbody tr th {\n",
       "        vertical-align: top;\n",
       "    }\n",
       "\n",
       "    .dataframe thead th {\n",
       "        text-align: right;\n",
       "    }\n",
       "</style>\n",
       "<table border=\"1\" class=\"dataframe\">\n",
       "  <thead>\n",
       "    <tr style=\"text-align: right;\">\n",
       "      <th></th>\n",
       "      <th>capacity_mw</th>\n",
       "      <th>latitude</th>\n",
       "      <th>longitude</th>\n",
       "      <th>source</th>\n",
       "      <th>geolocation_source</th>\n",
       "      <th>PP_age</th>\n",
       "    </tr>\n",
       "  </thead>\n",
       "  <tbody>\n",
       "    <tr>\n",
       "      <th>0</th>\n",
       "      <td>-1.639944</td>\n",
       "      <td>1.155327</td>\n",
       "      <td>-0.905807</td>\n",
       "      <td>1.578700</td>\n",
       "      <td>-1.059632</td>\n",
       "      <td>-0.087614</td>\n",
       "    </tr>\n",
       "    <tr>\n",
       "      <th>1</th>\n",
       "      <td>0.186029</td>\n",
       "      <td>0.598448</td>\n",
       "      <td>-0.567933</td>\n",
       "      <td>3.125148</td>\n",
       "      <td>0.400848</td>\n",
       "      <td>-0.780279</td>\n",
       "    </tr>\n",
       "    <tr>\n",
       "      <th>2</th>\n",
       "      <td>-0.306337</td>\n",
       "      <td>0.132019</td>\n",
       "      <td>-1.895590</td>\n",
       "      <td>-0.514953</td>\n",
       "      <td>0.400848</td>\n",
       "      <td>-0.780279</td>\n",
       "    </tr>\n",
       "    <tr>\n",
       "      <th>3</th>\n",
       "      <td>0.359502</td>\n",
       "      <td>0.452596</td>\n",
       "      <td>3.134428</td>\n",
       "      <td>-0.491161</td>\n",
       "      <td>0.400848</td>\n",
       "      <td>0.590412</td>\n",
       "    </tr>\n",
       "    <tr>\n",
       "      <th>4</th>\n",
       "      <td>1.770870</td>\n",
       "      <td>0.141226</td>\n",
       "      <td>1.248497</td>\n",
       "      <td>-0.491161</td>\n",
       "      <td>0.400848</td>\n",
       "      <td>-0.780279</td>\n",
       "    </tr>\n",
       "    <tr>\n",
       "      <th>...</th>\n",
       "      <td>...</td>\n",
       "      <td>...</td>\n",
       "      <td>...</td>\n",
       "      <td>...</td>\n",
       "      <td>...</td>\n",
       "      <td>...</td>\n",
       "    </tr>\n",
       "    <tr>\n",
       "      <th>833</th>\n",
       "      <td>1.706562</td>\n",
       "      <td>-0.781920</td>\n",
       "      <td>0.092492</td>\n",
       "      <td>-0.491161</td>\n",
       "      <td>0.400848</td>\n",
       "      <td>-1.043237</td>\n",
       "    </tr>\n",
       "    <tr>\n",
       "      <th>834</th>\n",
       "      <td>-1.566994</td>\n",
       "      <td>-1.336208</td>\n",
       "      <td>0.282430</td>\n",
       "      <td>0.817372</td>\n",
       "      <td>-2.520112</td>\n",
       "      <td>-0.780279</td>\n",
       "    </tr>\n",
       "    <tr>\n",
       "      <th>835</th>\n",
       "      <td>-0.533998</td>\n",
       "      <td>-0.947977</td>\n",
       "      <td>-0.331588</td>\n",
       "      <td>-0.514953</td>\n",
       "      <td>0.400848</td>\n",
       "      <td>-0.780279</td>\n",
       "    </tr>\n",
       "    <tr>\n",
       "      <th>836</th>\n",
       "      <td>0.076400</td>\n",
       "      <td>0.530614</td>\n",
       "      <td>-0.779893</td>\n",
       "      <td>0.389125</td>\n",
       "      <td>0.400848</td>\n",
       "      <td>-0.780279</td>\n",
       "    </tr>\n",
       "    <tr>\n",
       "      <th>837</th>\n",
       "      <td>-0.760687</td>\n",
       "      <td>-1.818328</td>\n",
       "      <td>0.120803</td>\n",
       "      <td>-0.514953</td>\n",
       "      <td>0.400848</td>\n",
       "      <td>-0.780279</td>\n",
       "    </tr>\n",
       "  </tbody>\n",
       "</table>\n",
       "<p>838 rows × 6 columns</p>\n",
       "</div>"
      ],
      "text/plain": [
       "     capacity_mw  latitude  longitude    source  geolocation_source    PP_age\n",
       "0      -1.639944  1.155327  -0.905807  1.578700           -1.059632 -0.087614\n",
       "1       0.186029  0.598448  -0.567933  3.125148            0.400848 -0.780279\n",
       "2      -0.306337  0.132019  -1.895590 -0.514953            0.400848 -0.780279\n",
       "3       0.359502  0.452596   3.134428 -0.491161            0.400848  0.590412\n",
       "4       1.770870  0.141226   1.248497 -0.491161            0.400848 -0.780279\n",
       "..           ...       ...        ...       ...                 ...       ...\n",
       "833     1.706562 -0.781920   0.092492 -0.491161            0.400848 -1.043237\n",
       "834    -1.566994 -1.336208   0.282430  0.817372           -2.520112 -0.780279\n",
       "835    -0.533998 -0.947977  -0.331588 -0.514953            0.400848 -0.780279\n",
       "836     0.076400  0.530614  -0.779893  0.389125            0.400848 -0.780279\n",
       "837    -0.760687 -1.818328   0.120803 -0.514953            0.400848 -0.780279\n",
       "\n",
       "[838 rows x 6 columns]"
      ]
     },
     "execution_count": 103,
     "metadata": {},
     "output_type": "execute_result"
    }
   ],
   "source": [
    "from sklearn.preprocessing import StandardScaler\n",
    "\n",
    "scaler = StandardScaler()\n",
    "X= pd.DataFrame(scaler.fit_transform(X), columns=X.columns)\n",
    "X"
   ]
  },
  {
   "cell_type": "code",
   "execution_count": 104,
   "id": "39675ab1",
   "metadata": {},
   "outputs": [
    {
     "data": {
      "text/html": [
       "<div>\n",
       "<style scoped>\n",
       "    .dataframe tbody tr th:only-of-type {\n",
       "        vertical-align: middle;\n",
       "    }\n",
       "\n",
       "    .dataframe tbody tr th {\n",
       "        vertical-align: top;\n",
       "    }\n",
       "\n",
       "    .dataframe thead th {\n",
       "        text-align: right;\n",
       "    }\n",
       "</style>\n",
       "<table border=\"1\" class=\"dataframe\">\n",
       "  <thead>\n",
       "    <tr style=\"text-align: right;\">\n",
       "      <th></th>\n",
       "      <th>VIF values</th>\n",
       "      <th>Features</th>\n",
       "    </tr>\n",
       "  </thead>\n",
       "  <tbody>\n",
       "    <tr>\n",
       "      <th>0</th>\n",
       "      <td>1.468904</td>\n",
       "      <td>capacity_mw</td>\n",
       "    </tr>\n",
       "    <tr>\n",
       "      <th>1</th>\n",
       "      <td>1.070149</td>\n",
       "      <td>latitude</td>\n",
       "    </tr>\n",
       "    <tr>\n",
       "      <th>2</th>\n",
       "      <td>1.173381</td>\n",
       "      <td>longitude</td>\n",
       "    </tr>\n",
       "    <tr>\n",
       "      <th>3</th>\n",
       "      <td>1.527596</td>\n",
       "      <td>source</td>\n",
       "    </tr>\n",
       "    <tr>\n",
       "      <th>4</th>\n",
       "      <td>1.668172</td>\n",
       "      <td>geolocation_source</td>\n",
       "    </tr>\n",
       "    <tr>\n",
       "      <th>5</th>\n",
       "      <td>1.204760</td>\n",
       "      <td>PP_age</td>\n",
       "    </tr>\n",
       "  </tbody>\n",
       "</table>\n",
       "</div>"
      ],
      "text/plain": [
       "   VIF values            Features\n",
       "0    1.468904         capacity_mw\n",
       "1    1.070149            latitude\n",
       "2    1.173381           longitude\n",
       "3    1.527596              source\n",
       "4    1.668172  geolocation_source\n",
       "5    1.204760              PP_age"
      ]
     },
     "execution_count": 104,
     "metadata": {},
     "output_type": "execute_result"
    }
   ],
   "source": [
    "# Finding varience inflation factor in each scaled column i.e, x.shape[1] (1/(1-R2))\n",
    "\n",
    "from statsmodels.stats.outliers_influence import variance_inflation_factor\n",
    "vif = pd.DataFrame()\n",
    "vif[\"VIF values\"] = [variance_inflation_factor(X.values,i)\n",
    "              for i in range(len(X.columns))]\n",
    "vif[\"Features\"] = X.columns\n",
    "\n",
    "# Let's check the values\n",
    "vif"
   ]
  },
  {
   "cell_type": "code",
   "execution_count": 105,
   "id": "bb3888f1",
   "metadata": {},
   "outputs": [],
   "source": [
    "from sklearn.linear_model import LogisticRegression\n",
    "from sklearn.svm import SVC\n",
    "from sklearn.tree import DecisionTreeClassifier\n",
    "from sklearn.ensemble import RandomForestClassifier, GradientBoostingClassifier\n",
    "from sklearn.ensemble import ExtraTreesClassifier\n",
    "from sklearn.neighbors import KNeighborsClassifier\n",
    "from sklearn.metrics import classification_report\n",
    "from sklearn.metrics import accuracy_score\n",
    "from sklearn.metrics import roc_auc_score"
   ]
  },
  {
   "cell_type": "code",
   "execution_count": 106,
   "id": "52b742b1",
   "metadata": {},
   "outputs": [
    {
     "name": "stdout",
     "output_type": "stream",
     "text": [
      "Best accuracy score is 82.14285714285714 on Random State 34\n"
     ]
    }
   ],
   "source": [
    "max_accu=0\n",
    "max_rs=0\n",
    "\n",
    "for i in range(1, 500):\n",
    "    X_train, X_test, Y_train, Y_test = train_test_split(X, Y, test_size=0.20, random_state=i)\n",
    "    lr=LogisticRegression()\n",
    "    lr.fit(X_train, Y_train)\n",
    "    pred1 = lr.predict(X_test)\n",
    "    acc_score = (accuracy_score(Y_test, pred1))*100\n",
    "    \n",
    "    if acc_score>max_accu:\n",
    "        max_accu=acc_score\n",
    "        max_rs=i\n",
    "\n",
    "print(\"Best accuracy score is\", max_accu,\"on Random State\", max_rs)"
   ]
  },
  {
   "cell_type": "code",
   "execution_count": 107,
   "id": "cc30dbb3",
   "metadata": {},
   "outputs": [],
   "source": [
    "def classify(model,X,Y):\n",
    "    X_train, X_test, Y_train, Y_test=train_test_split(X,Y, test_size=0.20, random_state=34)\n",
    "    \n",
    "    model.fit(X_train,Y_train)# training the model\n",
    "    \n",
    "    pred1=model.predict(X_test)# predicting the Y_test\n",
    "    \n",
    "    cr=classification_report(Y_test,pred1)# classification report\n",
    "    print('CLassification Report:\\n', cr)\n",
    "    \n",
    "    acc_score=accuracy_score(Y_test,pred1)*100 # accuracy score\n",
    "    print('Accuracy score:', acc_score)\n",
    "    \n",
    "    cv_score=(cross_val_score(model,X,Y,cv=5).mean())*100 # cross validation score\n",
    "    print('Cross Validation Score:',cv_score)\n",
    "    \n",
    "    result=acc_score-cv_score # final accuracy result\n",
    "    print('\\nAccuracy score-cross validation scoore is:', result)"
   ]
  },
  {
   "cell_type": "code",
   "execution_count": 108,
   "id": "07b54ec7",
   "metadata": {},
   "outputs": [
    {
     "name": "stdout",
     "output_type": "stream",
     "text": [
      "CLassification Report:\n",
      "               precision    recall  f1-score   support\n",
      "\n",
      "           0       0.60      0.90      0.72        10\n",
      "           1       0.78      0.77      0.77        56\n",
      "           2       0.00      0.00      0.00         9\n",
      "           3       0.81      0.90      0.85        48\n",
      "           4       0.00      0.00      0.00         1\n",
      "           5       0.00      0.00      0.00         1\n",
      "           6       1.00      1.00      1.00        18\n",
      "           7       0.93      1.00      0.96        25\n",
      "\n",
      "    accuracy                           0.82       168\n",
      "   macro avg       0.51      0.57      0.54       168\n",
      "weighted avg       0.77      0.82      0.79       168\n",
      "\n",
      "Accuracy score: 82.14285714285714\n",
      "Cross Validation Score: 73.38893641288851\n",
      "\n",
      "Accuracy score-cross validation scoore is: 8.753920729968627\n"
     ]
    }
   ],
   "source": [
    "model=LogisticRegression()\n",
    "classify(model,X,Y)"
   ]
  },
  {
   "cell_type": "code",
   "execution_count": 109,
   "id": "d351ab7f",
   "metadata": {},
   "outputs": [
    {
     "name": "stdout",
     "output_type": "stream",
     "text": [
      "CLassification Report:\n",
      "               precision    recall  f1-score   support\n",
      "\n",
      "           0       0.67      0.80      0.73        10\n",
      "           1       0.77      0.77      0.77        56\n",
      "           2       0.57      0.44      0.50         9\n",
      "           3       0.87      0.81      0.84        48\n",
      "           4       0.00      0.00      0.00         1\n",
      "           5       0.50      1.00      0.67         1\n",
      "           6       1.00      1.00      1.00        18\n",
      "           7       1.00      1.00      1.00        25\n",
      "\n",
      "    accuracy                           0.82       168\n",
      "   macro avg       0.67      0.73      0.69       168\n",
      "weighted avg       0.83      0.82      0.83       168\n",
      "\n",
      "Accuracy score: 82.14285714285714\n",
      "Cross Validation Score: 78.16010835471914\n",
      "\n",
      "Accuracy score-cross validation scoore is: 3.9827487881379966\n"
     ]
    }
   ],
   "source": [
    "model=DecisionTreeClassifier(max_depth=15)\n",
    "classify(model,X,Y)"
   ]
  },
  {
   "cell_type": "code",
   "execution_count": 110,
   "id": "66fc1787",
   "metadata": {},
   "outputs": [
    {
     "name": "stdout",
     "output_type": "stream",
     "text": [
      "CLassification Report:\n",
      "               precision    recall  f1-score   support\n",
      "\n",
      "           0       0.73      0.80      0.76        10\n",
      "           1       0.83      0.89      0.86        56\n",
      "           2       1.00      0.56      0.71         9\n",
      "           3       0.94      0.92      0.93        48\n",
      "           4       0.00      0.00      0.00         1\n",
      "           5       0.50      1.00      0.67         1\n",
      "           6       1.00      1.00      1.00        18\n",
      "           7       1.00      1.00      1.00        25\n",
      "\n",
      "    accuracy                           0.90       168\n",
      "   macro avg       0.75      0.77      0.74       168\n",
      "weighted avg       0.90      0.90      0.90       168\n",
      "\n",
      "Accuracy score: 89.88095238095238\n",
      "Cross Validation Score: 84.48103792415169\n",
      "\n",
      "Accuracy score-cross validation scoore is: 5.399914456800687\n"
     ]
    }
   ],
   "source": [
    "model=RandomForestClassifier(max_depth=15)\n",
    "classify(model,X,Y)"
   ]
  },
  {
   "cell_type": "code",
   "execution_count": 111,
   "id": "0c1c4771",
   "metadata": {},
   "outputs": [
    {
     "name": "stdout",
     "output_type": "stream",
     "text": [
      "CLassification Report:\n",
      "               precision    recall  f1-score   support\n",
      "\n",
      "           0       0.64      0.90      0.75        10\n",
      "           1       0.84      0.73      0.78        56\n",
      "           2       0.33      0.33      0.33         9\n",
      "           3       0.81      0.81      0.81        48\n",
      "           4       0.00      0.00      0.00         1\n",
      "           5       0.00      0.00      0.00         1\n",
      "           6       0.95      1.00      0.97        18\n",
      "           7       0.89      1.00      0.94        25\n",
      "\n",
      "    accuracy                           0.80       168\n",
      "   macro avg       0.56      0.60      0.57       168\n",
      "weighted avg       0.80      0.80      0.80       168\n",
      "\n",
      "Accuracy score: 80.35714285714286\n",
      "Cross Validation Score: 78.87653264898775\n",
      "\n",
      "Accuracy score-cross validation scoore is: 1.4806102081551131\n"
     ]
    }
   ],
   "source": [
    "model=KNeighborsClassifier()\n",
    "classify(model,X,Y)"
   ]
  },
  {
   "cell_type": "code",
   "execution_count": 112,
   "id": "b12da386",
   "metadata": {},
   "outputs": [
    {
     "name": "stdout",
     "output_type": "stream",
     "text": [
      "CLassification Report:\n",
      "               precision    recall  f1-score   support\n",
      "\n",
      "           0       0.62      0.80      0.70        10\n",
      "           1       0.79      0.82      0.81        56\n",
      "           2       0.00      0.00      0.00         9\n",
      "           3       0.86      0.92      0.89        48\n",
      "           4       0.00      0.00      0.00         1\n",
      "           5       0.00      0.00      0.00         1\n",
      "           6       1.00      1.00      1.00        18\n",
      "           7       0.89      1.00      0.94        25\n",
      "\n",
      "    accuracy                           0.84       168\n",
      "   macro avg       0.52      0.57      0.54       168\n",
      "weighted avg       0.79      0.84      0.81       168\n",
      "\n",
      "Accuracy score: 83.92857142857143\n",
      "Cross Validation Score: 76.6096378671229\n",
      "\n",
      "Accuracy score-cross validation scoore is: 7.318933561448532\n"
     ]
    }
   ],
   "source": [
    "model=SVC()\n",
    "classify(model,X,Y)"
   ]
  },
  {
   "cell_type": "code",
   "execution_count": 113,
   "id": "03afcd24",
   "metadata": {},
   "outputs": [
    {
     "name": "stdout",
     "output_type": "stream",
     "text": [
      "CLassification Report:\n",
      "               precision    recall  f1-score   support\n",
      "\n",
      "           0       0.70      0.70      0.70        10\n",
      "           1       0.88      0.89      0.88        56\n",
      "           2       0.67      0.44      0.53         9\n",
      "           3       0.90      0.92      0.91        48\n",
      "           4       0.00      0.00      0.00         1\n",
      "           5       0.00      0.00      0.00         1\n",
      "           6       0.90      1.00      0.95        18\n",
      "           7       1.00      1.00      1.00        25\n",
      "\n",
      "    accuracy                           0.88       168\n",
      "   macro avg       0.63      0.62      0.62       168\n",
      "weighted avg       0.87      0.88      0.87       168\n",
      "\n",
      "Accuracy score: 88.09523809523809\n",
      "Cross Validation Score: 83.40818363273452\n",
      "\n",
      "Accuracy score-cross validation scoore is: 4.687054462503568\n"
     ]
    }
   ],
   "source": [
    "model=GradientBoostingClassifier()\n",
    "classify(model,X,Y)"
   ]
  },
  {
   "cell_type": "markdown",
   "id": "aa591952",
   "metadata": {},
   "source": [
    "## Hypertuning Parameters with best selected model"
   ]
  },
  {
   "cell_type": "code",
   "execution_count": 114,
   "id": "6be3a561",
   "metadata": {},
   "outputs": [],
   "source": [
    "parameter = {'n_estimators':[30,50,60],'max_depth': [10,20,40,60],'min_samples_leaf':[5,10,15,20],'min_samples_split':[2,5,10,20],'criterion':['gini','entropy']}"
   ]
  },
  {
   "cell_type": "code",
   "execution_count": 115,
   "id": "1cc38cb7",
   "metadata": {},
   "outputs": [],
   "source": [
    "GridCV = GridSearchCV(RandomForestClassifier(),parameter,cv=3,n_jobs = -1,verbose = 1)"
   ]
  },
  {
   "cell_type": "code",
   "execution_count": 116,
   "id": "1a880f39",
   "metadata": {},
   "outputs": [
    {
     "name": "stdout",
     "output_type": "stream",
     "text": [
      "Fitting 3 folds for each of 384 candidates, totalling 1152 fits\n"
     ]
    },
    {
     "data": {
      "text/plain": [
       "GridSearchCV(cv=3, estimator=RandomForestClassifier(), n_jobs=-1,\n",
       "             param_grid={'criterion': ['gini', 'entropy'],\n",
       "                         'max_depth': [10, 20, 40, 60],\n",
       "                         'min_samples_leaf': [5, 10, 15, 20],\n",
       "                         'min_samples_split': [2, 5, 10, 20],\n",
       "                         'n_estimators': [30, 50, 60]},\n",
       "             verbose=1)"
      ]
     },
     "execution_count": 116,
     "metadata": {},
     "output_type": "execute_result"
    }
   ],
   "source": [
    "GridCV.fit(X_train,Y_train)"
   ]
  },
  {
   "cell_type": "code",
   "execution_count": 117,
   "id": "543d8944",
   "metadata": {},
   "outputs": [
    {
     "data": {
      "text/plain": [
       "{'criterion': 'gini',\n",
       " 'max_depth': 20,\n",
       " 'min_samples_leaf': 5,\n",
       " 'min_samples_split': 5,\n",
       " 'n_estimators': 30}"
      ]
     },
     "execution_count": 117,
     "metadata": {},
     "output_type": "execute_result"
    }
   ],
   "source": [
    "GridCV.best_params_"
   ]
  },
  {
   "cell_type": "code",
   "execution_count": 121,
   "id": "c215dd9e",
   "metadata": {},
   "outputs": [
    {
     "name": "stdout",
     "output_type": "stream",
     "text": [
      "79.16666666666666\n"
     ]
    }
   ],
   "source": [
    "Best_mod = RandomForestClassifier(n_estimators = 30,criterion = 'gini', max_depth= 20,min_samples_leaf = 5, min_samples_split = 5)\n",
    "Best_mod.fit(X_train,Y_train)\n",
    "rfpred = Best_mod.predict(X_test)\n",
    "acc = accuracy_score(Y_test,rfpred)\n",
    "print(acc*100)"
   ]
  },
  {
   "cell_type": "code",
   "execution_count": 122,
   "id": "0c5da543",
   "metadata": {},
   "outputs": [
    {
     "data": {
      "text/plain": [
       "['Global_Power_plant_project.pkl']"
      ]
     },
     "execution_count": 122,
     "metadata": {},
     "output_type": "execute_result"
    }
   ],
   "source": [
    "# Saving the model using .pkl\n",
    "import joblib\n",
    "joblib.dump(acc,\"Global_Power_plant_project.pkl\")"
   ]
  },
  {
   "cell_type": "code",
   "execution_count": null,
   "id": "21dc88f9",
   "metadata": {},
   "outputs": [],
   "source": []
  }
 ],
 "metadata": {
  "kernelspec": {
   "display_name": "Python 3",
   "language": "python",
   "name": "python3"
  },
  "language_info": {
   "codemirror_mode": {
    "name": "ipython",
    "version": 3
   },
   "file_extension": ".py",
   "mimetype": "text/x-python",
   "name": "python",
   "nbconvert_exporter": "python",
   "pygments_lexer": "ipython3",
   "version": "3.8.8"
  }
 },
 "nbformat": 4,
 "nbformat_minor": 5
}
